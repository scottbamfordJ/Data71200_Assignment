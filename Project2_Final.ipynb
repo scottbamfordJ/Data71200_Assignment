{
 "cells": [
  {
   "cell_type": "markdown",
   "metadata": {},
   "source": [
    "### Import the orginal Dataset, Then re run and and scaling and splitting in order to balancec and clean data\n",
    "\n",
    "## Step 1, 2 "
   ]
  },
  {
   "cell_type": "code",
   "execution_count": 1,
   "metadata": {},
   "outputs": [],
   "source": [
    "import pandas as pd\n",
    "import numpy as np\n",
    "import time\n",
    "# Found Data Set\n",
    "# Generally This dataset is about Econmic Freedoms in the world\n",
    "df = pd.read_csv('efw_cc.csv')\n",
    "dataframe_copy = df.copy()"
   ]
  },
  {
   "cell_type": "code",
   "execution_count": 2,
   "metadata": {},
   "outputs": [],
   "source": [
    "dataframe_copy.loc[dataframe_copy['ECONOMIC FREEDOM'] > 5, 'Econ_Freedom_label'] = '1' # Economic Freedom is above 5\n",
    "dataframe_copy.loc[dataframe_copy['ECONOMIC FREEDOM'] <= 5, 'Econ_Freedom_label'] = '0'# Economic Freedom is between 0 and 5"
   ]
  },
  {
   "cell_type": "code",
   "execution_count": 3,
   "metadata": {},
   "outputs": [
    {
     "name": "stdout",
     "output_type": "stream",
     "text": [
      "\n",
      "Orginal Shape of DataFrame (3726, 36) \n",
      "Shape of dataframe after dropping values that are NA after Categorizing predictor: (3003, 37)\n"
     ]
    }
   ],
   "source": [
    "# I dropped all the rows that are NA in the Predicting categories label (Econ_Freedom_label)\n",
    "dataframe_copy2 = dataframe_copy.dropna(subset = [\"Econ_Freedom_label\"], inplace=False)\n",
    "print(\"\\nOrginal Shape of DataFrame\", df.shape, \"\\nShape of dataframe after dropping values that are NA after Categorizing predictor:\", dataframe_copy2.shape)"
   ]
  },
  {
   "cell_type": "code",
   "execution_count": 4,
   "metadata": {},
   "outputs": [
    {
     "data": {
      "text/html": [
       "<div>\n",
       "<style scoped>\n",
       "    .dataframe tbody tr th:only-of-type {\n",
       "        vertical-align: middle;\n",
       "    }\n",
       "\n",
       "    .dataframe tbody tr th {\n",
       "        vertical-align: top;\n",
       "    }\n",
       "\n",
       "    .dataframe thead th {\n",
       "        text-align: right;\n",
       "    }\n",
       "</style>\n",
       "<table border=\"1\" class=\"dataframe\">\n",
       "  <thead>\n",
       "    <tr style=\"text-align: right;\">\n",
       "      <th></th>\n",
       "      <th>year</th>\n",
       "      <th>ISO_code</th>\n",
       "      <th>countries</th>\n",
       "      <th>ECONOMIC FREEDOM</th>\n",
       "      <th>rank</th>\n",
       "      <th>quartile</th>\n",
       "      <th>1a_government_consumption</th>\n",
       "      <th>1b_transfers</th>\n",
       "      <th>1c_gov_enterprises</th>\n",
       "      <th>1d_top_marg_tax_rate</th>\n",
       "      <th>...</th>\n",
       "      <th>3_sound_money</th>\n",
       "      <th>4a_tariffs</th>\n",
       "      <th>4b_regulatory_trade_barriers</th>\n",
       "      <th>4c_black_market</th>\n",
       "      <th>4d_control_movement_capital_ppl</th>\n",
       "      <th>4_trade</th>\n",
       "      <th>5a_credit_market_reg</th>\n",
       "      <th>5b_labor_market_reg</th>\n",
       "      <th>5c_business_reg</th>\n",
       "      <th>5_regulation</th>\n",
       "    </tr>\n",
       "  </thead>\n",
       "  <tbody>\n",
       "    <tr>\n",
       "      <th>0</th>\n",
       "      <td>2016</td>\n",
       "      <td>ALB</td>\n",
       "      <td>Albania</td>\n",
       "      <td>7.54</td>\n",
       "      <td>34.0</td>\n",
       "      <td>1.0</td>\n",
       "      <td>8.232353</td>\n",
       "      <td>7.509902</td>\n",
       "      <td>8.0</td>\n",
       "      <td>8.0</td>\n",
       "      <td>...</td>\n",
       "      <td>9.553657</td>\n",
       "      <td>8.963556</td>\n",
       "      <td>7.489905</td>\n",
       "      <td>10.00000</td>\n",
       "      <td>6.406138</td>\n",
       "      <td>8.214900</td>\n",
       "      <td>7.098562</td>\n",
       "      <td>6.916278</td>\n",
       "      <td>6.705863</td>\n",
       "      <td>6.906901</td>\n",
       "    </tr>\n",
       "    <tr>\n",
       "      <th>1</th>\n",
       "      <td>2016</td>\n",
       "      <td>DZA</td>\n",
       "      <td>Algeria</td>\n",
       "      <td>4.99</td>\n",
       "      <td>159.0</td>\n",
       "      <td>4.0</td>\n",
       "      <td>2.150000</td>\n",
       "      <td>7.817129</td>\n",
       "      <td>0.0</td>\n",
       "      <td>4.5</td>\n",
       "      <td>...</td>\n",
       "      <td>7.253894</td>\n",
       "      <td>6.872533</td>\n",
       "      <td>2.481294</td>\n",
       "      <td>5.56391</td>\n",
       "      <td>1.590362</td>\n",
       "      <td>4.127025</td>\n",
       "      <td>5.100509</td>\n",
       "      <td>5.029513</td>\n",
       "      <td>5.676956</td>\n",
       "      <td>5.268992</td>\n",
       "    </tr>\n",
       "    <tr>\n",
       "      <th>2</th>\n",
       "      <td>2016</td>\n",
       "      <td>AGO</td>\n",
       "      <td>Angola</td>\n",
       "      <td>5.17</td>\n",
       "      <td>155.0</td>\n",
       "      <td>4.0</td>\n",
       "      <td>7.600000</td>\n",
       "      <td>8.886739</td>\n",
       "      <td>0.0</td>\n",
       "      <td>9.5</td>\n",
       "      <td>...</td>\n",
       "      <td>5.606605</td>\n",
       "      <td>6.989244</td>\n",
       "      <td>2.024949</td>\n",
       "      <td>10.00000</td>\n",
       "      <td>2.044823</td>\n",
       "      <td>5.264754</td>\n",
       "      <td>7.064905</td>\n",
       "      <td>4.560325</td>\n",
       "      <td>4.930271</td>\n",
       "      <td>5.518500</td>\n",
       "    </tr>\n",
       "    <tr>\n",
       "      <th>3</th>\n",
       "      <td>2016</td>\n",
       "      <td>ARG</td>\n",
       "      <td>Argentina</td>\n",
       "      <td>4.84</td>\n",
       "      <td>160.0</td>\n",
       "      <td>4.0</td>\n",
       "      <td>5.335294</td>\n",
       "      <td>6.048930</td>\n",
       "      <td>6.0</td>\n",
       "      <td>4.0</td>\n",
       "      <td>...</td>\n",
       "      <td>5.614336</td>\n",
       "      <td>6.421600</td>\n",
       "      <td>4.811105</td>\n",
       "      <td>0.00000</td>\n",
       "      <td>4.697482</td>\n",
       "      <td>3.982547</td>\n",
       "      <td>5.419820</td>\n",
       "      <td>5.151405</td>\n",
       "      <td>5.535831</td>\n",
       "      <td>5.369019</td>\n",
       "    </tr>\n",
       "    <tr>\n",
       "      <th>4</th>\n",
       "      <td>2016</td>\n",
       "      <td>ARM</td>\n",
       "      <td>Armenia</td>\n",
       "      <td>7.57</td>\n",
       "      <td>29.0</td>\n",
       "      <td>1.0</td>\n",
       "      <td>7.264706</td>\n",
       "      <td>7.748532</td>\n",
       "      <td>8.0</td>\n",
       "      <td>5.0</td>\n",
       "      <td>...</td>\n",
       "      <td>9.521940</td>\n",
       "      <td>8.547556</td>\n",
       "      <td>7.194410</td>\n",
       "      <td>10.00000</td>\n",
       "      <td>6.830998</td>\n",
       "      <td>8.143241</td>\n",
       "      <td>9.102046</td>\n",
       "      <td>6.234630</td>\n",
       "      <td>6.797530</td>\n",
       "      <td>7.378069</td>\n",
       "    </tr>\n",
       "    <tr>\n",
       "      <th>...</th>\n",
       "      <td>...</td>\n",
       "      <td>...</td>\n",
       "      <td>...</td>\n",
       "      <td>...</td>\n",
       "      <td>...</td>\n",
       "      <td>...</td>\n",
       "      <td>...</td>\n",
       "      <td>...</td>\n",
       "      <td>...</td>\n",
       "      <td>...</td>\n",
       "      <td>...</td>\n",
       "      <td>...</td>\n",
       "      <td>...</td>\n",
       "      <td>...</td>\n",
       "      <td>...</td>\n",
       "      <td>...</td>\n",
       "      <td>...</td>\n",
       "      <td>...</td>\n",
       "      <td>...</td>\n",
       "      <td>...</td>\n",
       "      <td>...</td>\n",
       "    </tr>\n",
       "    <tr>\n",
       "      <th>3721</th>\n",
       "      <td>1970</td>\n",
       "      <td>VEN</td>\n",
       "      <td>Venezuela</td>\n",
       "      <td>7.18</td>\n",
       "      <td>10.0</td>\n",
       "      <td>1.0</td>\n",
       "      <td>6.602003</td>\n",
       "      <td>9.827430</td>\n",
       "      <td>7.0</td>\n",
       "      <td>NaN</td>\n",
       "      <td>...</td>\n",
       "      <td>9.713677</td>\n",
       "      <td>8.066667</td>\n",
       "      <td>NaN</td>\n",
       "      <td>10.00000</td>\n",
       "      <td>8.000000</td>\n",
       "      <td>8.688889</td>\n",
       "      <td>9.679680</td>\n",
       "      <td>NaN</td>\n",
       "      <td>NaN</td>\n",
       "      <td>5.312277</td>\n",
       "    </tr>\n",
       "    <tr>\n",
       "      <th>3722</th>\n",
       "      <td>1970</td>\n",
       "      <td>VNM</td>\n",
       "      <td>Vietnam</td>\n",
       "      <td>NaN</td>\n",
       "      <td>NaN</td>\n",
       "      <td>NaN</td>\n",
       "      <td>NaN</td>\n",
       "      <td>NaN</td>\n",
       "      <td>NaN</td>\n",
       "      <td>NaN</td>\n",
       "      <td>...</td>\n",
       "      <td>NaN</td>\n",
       "      <td>NaN</td>\n",
       "      <td>NaN</td>\n",
       "      <td>NaN</td>\n",
       "      <td>NaN</td>\n",
       "      <td>NaN</td>\n",
       "      <td>NaN</td>\n",
       "      <td>NaN</td>\n",
       "      <td>NaN</td>\n",
       "      <td>NaN</td>\n",
       "    </tr>\n",
       "    <tr>\n",
       "      <th>3723</th>\n",
       "      <td>1970</td>\n",
       "      <td>YEM</td>\n",
       "      <td>Yemen, Rep.</td>\n",
       "      <td>NaN</td>\n",
       "      <td>NaN</td>\n",
       "      <td>NaN</td>\n",
       "      <td>NaN</td>\n",
       "      <td>NaN</td>\n",
       "      <td>NaN</td>\n",
       "      <td>NaN</td>\n",
       "      <td>...</td>\n",
       "      <td>NaN</td>\n",
       "      <td>NaN</td>\n",
       "      <td>NaN</td>\n",
       "      <td>NaN</td>\n",
       "      <td>NaN</td>\n",
       "      <td>NaN</td>\n",
       "      <td>NaN</td>\n",
       "      <td>NaN</td>\n",
       "      <td>NaN</td>\n",
       "      <td>NaN</td>\n",
       "    </tr>\n",
       "    <tr>\n",
       "      <th>3724</th>\n",
       "      <td>1970</td>\n",
       "      <td>ZMB</td>\n",
       "      <td>Zambia</td>\n",
       "      <td>NaN</td>\n",
       "      <td>NaN</td>\n",
       "      <td>NaN</td>\n",
       "      <td>3.448131</td>\n",
       "      <td>9.105430</td>\n",
       "      <td>0.0</td>\n",
       "      <td>NaN</td>\n",
       "      <td>...</td>\n",
       "      <td>5.133689</td>\n",
       "      <td>NaN</td>\n",
       "      <td>NaN</td>\n",
       "      <td>0.00000</td>\n",
       "      <td>2.000000</td>\n",
       "      <td>NaN</td>\n",
       "      <td>7.327327</td>\n",
       "      <td>NaN</td>\n",
       "      <td>NaN</td>\n",
       "      <td>NaN</td>\n",
       "    </tr>\n",
       "    <tr>\n",
       "      <th>3725</th>\n",
       "      <td>1970</td>\n",
       "      <td>ZWE</td>\n",
       "      <td>Zimbabwe</td>\n",
       "      <td>NaN</td>\n",
       "      <td>NaN</td>\n",
       "      <td>NaN</td>\n",
       "      <td>7.806922</td>\n",
       "      <td>NaN</td>\n",
       "      <td>2.0</td>\n",
       "      <td>NaN</td>\n",
       "      <td>...</td>\n",
       "      <td>5.036667</td>\n",
       "      <td>NaN</td>\n",
       "      <td>NaN</td>\n",
       "      <td>7.20000</td>\n",
       "      <td>NaN</td>\n",
       "      <td>NaN</td>\n",
       "      <td>NaN</td>\n",
       "      <td>NaN</td>\n",
       "      <td>NaN</td>\n",
       "      <td>NaN</td>\n",
       "    </tr>\n",
       "  </tbody>\n",
       "</table>\n",
       "<p>3726 rows × 36 columns</p>\n",
       "</div>"
      ],
      "text/plain": [
       "      year ISO_code    countries  ECONOMIC FREEDOM   rank  quartile  \\\n",
       "0     2016      ALB      Albania              7.54   34.0       1.0   \n",
       "1     2016      DZA      Algeria              4.99  159.0       4.0   \n",
       "2     2016      AGO       Angola              5.17  155.0       4.0   \n",
       "3     2016      ARG    Argentina              4.84  160.0       4.0   \n",
       "4     2016      ARM      Armenia              7.57   29.0       1.0   \n",
       "...    ...      ...          ...               ...    ...       ...   \n",
       "3721  1970      VEN    Venezuela              7.18   10.0       1.0   \n",
       "3722  1970      VNM      Vietnam               NaN    NaN       NaN   \n",
       "3723  1970      YEM  Yemen, Rep.               NaN    NaN       NaN   \n",
       "3724  1970      ZMB       Zambia               NaN    NaN       NaN   \n",
       "3725  1970      ZWE     Zimbabwe               NaN    NaN       NaN   \n",
       "\n",
       "      1a_government_consumption  1b_transfers  1c_gov_enterprises  \\\n",
       "0                      8.232353      7.509902                 8.0   \n",
       "1                      2.150000      7.817129                 0.0   \n",
       "2                      7.600000      8.886739                 0.0   \n",
       "3                      5.335294      6.048930                 6.0   \n",
       "4                      7.264706      7.748532                 8.0   \n",
       "...                         ...           ...                 ...   \n",
       "3721                   6.602003      9.827430                 7.0   \n",
       "3722                        NaN           NaN                 NaN   \n",
       "3723                        NaN           NaN                 NaN   \n",
       "3724                   3.448131      9.105430                 0.0   \n",
       "3725                   7.806922           NaN                 2.0   \n",
       "\n",
       "      1d_top_marg_tax_rate  ...  3_sound_money  4a_tariffs  \\\n",
       "0                      8.0  ...       9.553657    8.963556   \n",
       "1                      4.5  ...       7.253894    6.872533   \n",
       "2                      9.5  ...       5.606605    6.989244   \n",
       "3                      4.0  ...       5.614336    6.421600   \n",
       "4                      5.0  ...       9.521940    8.547556   \n",
       "...                    ...  ...            ...         ...   \n",
       "3721                   NaN  ...       9.713677    8.066667   \n",
       "3722                   NaN  ...            NaN         NaN   \n",
       "3723                   NaN  ...            NaN         NaN   \n",
       "3724                   NaN  ...       5.133689         NaN   \n",
       "3725                   NaN  ...       5.036667         NaN   \n",
       "\n",
       "      4b_regulatory_trade_barriers  4c_black_market  \\\n",
       "0                         7.489905         10.00000   \n",
       "1                         2.481294          5.56391   \n",
       "2                         2.024949         10.00000   \n",
       "3                         4.811105          0.00000   \n",
       "4                         7.194410         10.00000   \n",
       "...                            ...              ...   \n",
       "3721                           NaN         10.00000   \n",
       "3722                           NaN              NaN   \n",
       "3723                           NaN              NaN   \n",
       "3724                           NaN          0.00000   \n",
       "3725                           NaN          7.20000   \n",
       "\n",
       "      4d_control_movement_capital_ppl   4_trade  5a_credit_market_reg  \\\n",
       "0                            6.406138  8.214900              7.098562   \n",
       "1                            1.590362  4.127025              5.100509   \n",
       "2                            2.044823  5.264754              7.064905   \n",
       "3                            4.697482  3.982547              5.419820   \n",
       "4                            6.830998  8.143241              9.102046   \n",
       "...                               ...       ...                   ...   \n",
       "3721                         8.000000  8.688889              9.679680   \n",
       "3722                              NaN       NaN                   NaN   \n",
       "3723                              NaN       NaN                   NaN   \n",
       "3724                         2.000000       NaN              7.327327   \n",
       "3725                              NaN       NaN                   NaN   \n",
       "\n",
       "      5b_labor_market_reg  5c_business_reg  5_regulation  \n",
       "0                6.916278         6.705863      6.906901  \n",
       "1                5.029513         5.676956      5.268992  \n",
       "2                4.560325         4.930271      5.518500  \n",
       "3                5.151405         5.535831      5.369019  \n",
       "4                6.234630         6.797530      7.378069  \n",
       "...                   ...              ...           ...  \n",
       "3721                  NaN              NaN      5.312277  \n",
       "3722                  NaN              NaN           NaN  \n",
       "3723                  NaN              NaN           NaN  \n",
       "3724                  NaN              NaN           NaN  \n",
       "3725                  NaN              NaN           NaN  \n",
       "\n",
       "[3726 rows x 36 columns]"
      ]
     },
     "execution_count": 4,
     "metadata": {},
     "output_type": "execute_result"
    }
   ],
   "source": [
    "df"
   ]
  },
  {
   "cell_type": "code",
   "execution_count": 5,
   "metadata": {},
   "outputs": [],
   "source": [
    "X = dataframe_copy2.drop(['ECONOMIC FREEDOM', 'Econ_Freedom_label', 'ISO_code', 'countries'], axis = 1)\n",
    "y = dataframe_copy2.Econ_Freedom_label"
   ]
  },
  {
   "cell_type": "code",
   "execution_count": 6,
   "metadata": {},
   "outputs": [
    {
     "name": "stdout",
     "output_type": "stream",
     "text": [
      "StratifiedShuffleSplit(n_splits=1, random_state=42, test_size=0.2,\n",
      "            train_size=None)\n"
     ]
    }
   ],
   "source": [
    "from sklearn.model_selection import StratifiedShuffleSplit\n",
    "\n",
    "X_array = X.to_numpy()\n",
    "y_array = y.to_numpy()\n",
    "\n",
    "split = StratifiedShuffleSplit(n_splits = 1, test_size = 0.2, random_state = 42)\n",
    "split.get_n_splits(X_array, y_array)\n",
    "print(split)\n",
    "for train_index , test_index in split.split(X_array, y_array):\n",
    "    #print(\"TRAIN:\", train_index, \"TEST:\", test_index)\n",
    "    X_train = X_array[train_index]\n",
    "    X_test = X_array[test_index]\n",
    "    y_train = y_array[train_index]\n",
    "    y_test = y_array[test_index]\n",
    "    "
   ]
  },
  {
   "cell_type": "markdown",
   "metadata": {},
   "source": [
    "###### Notes\n",
    "I kept this line of code in as kind of a default or check to make sure retest everything. \n",
    "``` from sklearn.model_selection import train_test_split\n",
    "X_train, X_test, y_train, y_test = train_test_split(X, y, test_size = 0.2, random_state = 42, stratify = y)\n",
    "print(\"\\nTrain Value Spread\\n\", y_train.value_counts(),\n",
    "\"\\nTest Value Spread\\n\", y_test.value_counts())```"
   ]
  },
  {
   "cell_type": "markdown",
   "metadata": {},
   "source": [
    "###### Notes\n",
    "I had to conver the array back to a dataframe in order to fill in the data missing values with the mean of the column. Take note here we're using the X_train as the way in which we fill in for X_test as well, in order to not create bias since we're not suppose to actually know what is going on with the testing dataset. "
   ]
  },
  {
   "cell_type": "code",
   "execution_count": 7,
   "metadata": {},
   "outputs": [],
   "source": [
    "X_train = pd.DataFrame(X_train, columns = X.columns)\n",
    "X_test = pd.DataFrame(X_test, columns = X.columns)\n",
    "X_train = X_train.fillna(X_train.mean())\n",
    "X_test = X_test.fillna(X_train.mean())"
   ]
  },
  {
   "cell_type": "code",
   "execution_count": 8,
   "metadata": {},
   "outputs": [],
   "source": [
    "dataframe_correlation = pd.concat([dataframe_copy['ECONOMIC FREEDOM'],X_train], axis = 1)"
   ]
  },
  {
   "cell_type": "code",
   "execution_count": 9,
   "metadata": {},
   "outputs": [],
   "source": [
    "corr_matrix = dataframe_correlation.corr()\n",
    "corr_matrix_specific = np.abs(corr_matrix['ECONOMIC FREEDOM'])\n",
    "top_correlations = corr_matrix_specific.sort_values(ascending = False)"
   ]
  },
  {
   "cell_type": "code",
   "execution_count": 10,
   "metadata": {},
   "outputs": [],
   "source": [
    "chosen_correlations = top_correlations['4_trade':'4b_regulatory_trade_barriers']"
   ]
  },
  {
   "cell_type": "code",
   "execution_count": 11,
   "metadata": {},
   "outputs": [],
   "source": [
    "correlation_index = chosen_correlations.index\n",
    "X_train_corr = X_train.loc[:,correlation_index]\n",
    "X_test_corr = X_test.loc[:,correlation_index]"
   ]
  },
  {
   "cell_type": "markdown",
   "metadata": {},
   "source": [
    "###### Notes \n",
    "I use again standard scaler as I did in project 1, in order to reduce the mean, I do this for two fold to cover potenital issues later on using SVM or Descision Trees, as well as it standardizes the data pretty well. "
   ]
  },
  {
   "cell_type": "code",
   "execution_count": 12,
   "metadata": {},
   "outputs": [],
   "source": [
    "from sklearn.preprocessing import StandardScaler\n",
    "scaler = StandardScaler() \n",
    "scaler.fit(X_train_corr)\n",
    "X_train_scaled = pd.DataFrame(scaler.transform(X_train_corr),columns = X_train_corr.columns)  \n",
    "X_test_scaled = pd.DataFrame(scaler.transform(X_test_corr),columns = X_test_corr.columns)\n",
    "\n",
    "#print(\"\\nShape of Training set:\", X_train_scaled.shape, '\\nShape of Testing Set:', X_test_scaled.shape)"
   ]
  },
  {
   "cell_type": "code",
   "execution_count": 13,
   "metadata": {},
   "outputs": [],
   "source": [
    "X_train = X_train_scaled.copy()\n",
    "X_test = X_test_scaled.copy()"
   ]
  },
  {
   "cell_type": "markdown",
   "metadata": {},
   "source": [
    "###### Notes \n",
    "Double checking to make sure that the Null values are gone and that I am not going forward with these results with missing values still. "
   ]
  },
  {
   "cell_type": "code",
   "execution_count": 14,
   "metadata": {},
   "outputs": [
    {
     "data": {
      "text/plain": [
       "4_trade                               0\n",
       "3_sound_money                         0\n",
       "4d_control_movement_capital_ppl       0\n",
       "2c_protection_property_rights         0\n",
       "2a_judicial_independence              0\n",
       "3b_std_inflation                      0\n",
       "4a_tariffs                            0\n",
       "2j_gender_adjustment                  0\n",
       "1d_top_marg_tax_rate                  0\n",
       "2h_reliability_police                 0\n",
       "5_regulation                          0\n",
       "rank                                  0\n",
       "2g_restrictions_sale_real_property    0\n",
       "4c_black_market                       0\n",
       "2f_legal_enforcement_contracts        0\n",
       "1_size_government                     0\n",
       "quartile                              0\n",
       "3a_money_growth                       0\n",
       "2b_impartial_courts                   0\n",
       "2_property_rights                     0\n",
       "3c_inflation                          0\n",
       "1a_government_consumption             0\n",
       "2i_business_costs_crime               0\n",
       "4b_regulatory_trade_barriers          0\n",
       "dtype: int64"
      ]
     },
     "execution_count": 14,
     "metadata": {},
     "output_type": "execute_result"
    }
   ],
   "source": [
    "X_train.isnull().sum()"
   ]
  },
  {
   "cell_type": "code",
   "execution_count": 15,
   "metadata": {},
   "outputs": [],
   "source": [
    "#Re Labeling the predictor column names correctly \n",
    "y_train = pd.Series(y_train)\n",
    "y_train = y_train.rename(\"Econ_Freedom_label\")\n",
    "\n",
    "y_test = pd.Series(y_test)\n",
    "y_test = y_test.rename(\"Econ_Freedom_label\")"
   ]
  },
  {
   "cell_type": "markdown",
   "metadata": {},
   "source": [
    "### Step 3: \n"
   ]
  },
  {
   "cell_type": "code",
   "execution_count": 16,
   "metadata": {},
   "outputs": [
    {
     "data": {
      "image/png": "[encoded data removed]",
      "text/plain": [
       "<Figure size 360x360 with 1 Axes>"
      ]
     },
     "metadata": {},
     "output_type": "display_data"
    }
   ],
   "source": [
    "import seaborn as sns\n",
    "import matplotlib.pyplot as plt \n",
    "\n",
    "training_set = pd.concat([X_train, y_train], axis = 1)\n",
    "sns.set_theme(style=\"ticks\", color_codes=True)\n",
    "\n",
    "sns.catplot(x=\"Econ_Freedom_label\", y=\"4_trade\", data=training_set);"
   ]
  },
  {
   "cell_type": "markdown",
   "metadata": {},
   "source": [
    "#### This is clearly a categorical variable so it is either going to be I would consider this to binary, the distirbution based upon jus the training set it would appear that this is a binomial distribution just becasue of the fact that it is predicting either 0 or a 1. Later on if there were more variables to identify this would notion would change"
   ]
  },
  {
   "cell_type": "markdown",
   "metadata": {},
   "source": [
    "###### Create csv files of the training data so i can just load this instead of loading everything for project 3. "
   ]
  },
  {
   "cell_type": "code",
   "execution_count": 17,
   "metadata": {},
   "outputs": [],
   "source": [
    "merged_Train = pd.concat([X_train, y_train], axis = 1)\n",
    "merged_Test = pd.concat([X_test, y_test], axis = 1)\n",
    "\n",
    "merged_Train.to_csv(\"Train_DF.csv\", index = False)\n",
    "merged_Test.to_csv(\"Test_DF.csv\", index = False)"
   ]
  },
  {
   "cell_type": "markdown",
   "metadata": {},
   "source": [
    "# Step 4: "
   ]
  },
  {
   "cell_type": "markdown",
   "metadata": {},
   "source": [
    "# KNN"
   ]
  },
  {
   "cell_type": "markdown",
   "metadata": {},
   "source": [
    "##### I ran into some errors which wouldn't let me use f1 as a scorer, becasue it wasnt able to attribute the positive label aka yes or no of the prediction, So I modiified the F1 scorer to make it so that 1 is yes and 0 is no\n",
    "###### 1 = greater than 5, 0 is less than or equal to 5. So in other words is the value above 5 Yes everythiing else no. "
   ]
  },
  {
   "cell_type": "markdown",
   "metadata": {},
   "source": [
    "#### Base"
   ]
  },
  {
   "cell_type": "code",
   "execution_count": 18,
   "metadata": {},
   "outputs": [
    {
     "name": "stdout",
     "output_type": "stream",
     "text": [
      "\n",
      "KNN Optimized\n",
      "\n",
      "\n",
      "Train Accuracy:  0.9771024146544546\n",
      "\n",
      "Test Accuracy:  0.9667221297836939\n",
      "\n",
      "Test - No. Of Correct Predictions 581.0 / 601\n",
      "\n",
      "Test Confusion Matrix:\n",
      "[[ 49  15]\n",
      " [  5 532]]\n",
      "\n",
      "Test Precision = 0.965638\n",
      "Test Recall = 0.966722\n",
      "Test F1 Score = 0.965466\n",
      "\n",
      "Classification Report:\n",
      "              precision    recall  f1-score   support\n",
      "\n",
      "           0       0.91      0.77      0.83        64\n",
      "           1       0.97      0.99      0.98       537\n",
      "\n",
      "    accuracy                           0.97       601\n",
      "   macro avg       0.94      0.88      0.91       601\n",
      "weighted avg       0.97      0.97      0.97       601\n",
      "\n"
     ]
    }
   ],
   "source": [
    "from sklearn.neighbors import KNeighborsClassifier\n",
    "from sklearn.model_selection import GridSearchCV\n",
    "from sklearn.metrics import confusion_matrix, precision_score, recall_score, f1_score, classification_report\n",
    "\n",
    "knn_base = KNeighborsClassifier()\n",
    "knn_base.fit(X_train , y_train)\n",
    "prediction = knn_base.predict(X_test)\n",
    "training_predictioin = knn_base.predict(X_train)\n",
    "\n",
    "print('\\nKNN Optimized\\n')\n",
    "training_accuracy = np.mean(training_predictioin == y_train)\n",
    "test_accuracy = np.mean(prediction == y_test)\n",
    "\n",
    "print(\"\\nTrain Accuracy: \", training_accuracy)\n",
    "print(\"\\nTest Accuracy: \", test_accuracy)\n",
    "\n",
    "test_size = X_test.shape[0]\n",
    "test_no_correct = test_size  * test_accuracy\n",
    "\n",
    "print (\"\\nTest - No. Of Correct Predictions\", test_no_correct, \"/\", test_size)\n",
    "\n",
    "\n",
    "print(\"\\nTest Confusion Matrix:\")\n",
    "print(confusion_matrix(y_test, prediction))\n",
    "\n",
    "\n",
    "precision_test = precision_score(y_test, prediction,average='weighted') \n",
    "print(\"\\nTest Precision = %f\" % precision_test)\n",
    "\n",
    "recall_test = recall_score(y_test, prediction,average='weighted')\n",
    "print(\"Test Recall = %f\" % recall_test)\n",
    "\n",
    "\n",
    "f1_test = f1_score(y_test, prediction,average='weighted')\n",
    "print(\"Test F1 Score = %f\" % f1_test)\n",
    "\n",
    "\n",
    "print(\"\\nClassification Report:\")\n",
    "print(classification_report(y_test, prediction))"
   ]
  },
  {
   "cell_type": "markdown",
   "metadata": {},
   "source": [
    "#### Hyperparamater Tuning"
   ]
  },
  {
   "cell_type": "code",
   "execution_count": 19,
   "metadata": {},
   "outputs": [],
   "source": [
    "from sklearn.model_selection import StratifiedShuffleSplit\n",
    "cv = StratifiedShuffleSplit(n_splits=5, test_size=0.2, random_state=42)"
   ]
  },
  {
   "cell_type": "code",
   "execution_count": 20,
   "metadata": {},
   "outputs": [
    {
     "name": "stdout",
     "output_type": "stream",
     "text": [
      "Fitting 5 folds for each of 240 candidates, totalling 1200 fits\n"
     ]
    },
    {
     "name": "stderr",
     "output_type": "stream",
     "text": [
      "[Parallel(n_jobs=4)]: Using backend LokyBackend with 4 concurrent workers.\n",
      "[Parallel(n_jobs=4)]: Done  56 tasks      | elapsed:    2.6s\n",
      "[Parallel(n_jobs=4)]: Done 656 tasks      | elapsed:    9.9s\n",
      "[Parallel(n_jobs=4)]: Done 1200 out of 1200 | elapsed:   16.1s finished\n"
     ]
    },
    {
     "data": {
      "text/plain": [
       "GridSearchCV(cv=5, estimator=KNeighborsClassifier(), n_jobs=4,\n",
       "             param_grid={'algorithm': ['auto', 'ball_tree', 'kd_tree', 'brute'],\n",
       "                         'metric': ['manhattan', 'minkowski', 'euclidean'],\n",
       "                         'n_neighbors': [1, 2, 3, 4, 5, 6, 7, 8, 9, 10],\n",
       "                         'weights': ['uniform', 'distance']},\n",
       "             scoring='accuracy', verbose=True)"
      ]
     },
     "execution_count": 20,
     "metadata": {},
     "output_type": "execute_result"
    }
   ],
   "source": [
    "from sklearn.metrics import f1_score\n",
    "from sklearn.metrics import make_scorer\n",
    "\n",
    "f1_scorer = make_scorer(f1_score, pos_label= '1')\n",
    "param_grid = {\n",
    "    'metric':['manhattan', 'minkowski', 'euclidean'],\n",
    "    'n_neighbors':[1,2,3,4,5,6,7,8,9,10],\n",
    "    'weights': ['uniform', 'distance'],\n",
    "    'algorithm': ['auto', 'ball_tree', 'kd_tree', 'brute'],\n",
    "    \n",
    "}\n",
    "\n",
    "knn = KNeighborsClassifier()\n",
    "grid_knn = GridSearchCV(knn, param_grid, scoring = 'accuracy', cv = 5, n_jobs = 4, verbose = True)\n",
    "grid_knn.fit(X_train, y_train)"
   ]
  },
  {
   "cell_type": "markdown",
   "metadata": {},
   "source": [
    "#### Using CV = ``` StratifiedShuffleSplit(n_splits=5, test_size=0.2, random_state=42)```"
   ]
  },
  {
   "cell_type": "code",
   "execution_count": 21,
   "metadata": {},
   "outputs": [
    {
     "name": "stdout",
     "output_type": "stream",
     "text": [
      "Best Score (accuracy): 0.970023\n",
      "Optimal Hyperparameter Values:  {'algorithm': 'auto', 'metric': 'manhattan', 'n_neighbors': 10, 'weights': 'distance'}\n",
      "Worst Hyperparameter Valeus:  {'algorithm': 'auto', 'metric': 'minkowski', 'n_neighbors': 2, 'weights': 'uniform'}\n"
     ]
    }
   ],
   "source": [
    "knn_best_params = grid_knn.best_params_\n",
    "knn_results = pd.DataFrame(grid_knn.cv_results_)\n",
    "worst_score = knn_results.loc[np.argmax(knn_results.rank_test_score)]\n",
    "worst_score_params = worst_score.params\n",
    "print(\"Best Score (accuracy): %f\" % grid_knn.best_score_)\n",
    "print(\"Optimal Hyperparameter Values: \", knn_best_params)\n",
    "print(\"Worst Hyperparameter Valeus: \", worst_score_params)"
   ]
  },
  {
   "cell_type": "markdown",
   "metadata": {},
   "source": [
    "#### Using CV = ```5```"
   ]
  },
  {
   "cell_type": "code",
   "execution_count": 22,
   "metadata": {},
   "outputs": [
    {
     "name": "stdout",
     "output_type": "stream",
     "text": [
      "Best Score (accuracy): 0.970023\n",
      "Optimal Hyperparameter Values:  {'algorithm': 'auto', 'metric': 'manhattan', 'n_neighbors': 10, 'weights': 'distance'}\n",
      "Worst Hyperparameter Valeus:  {'algorithm': 'auto', 'metric': 'minkowski', 'n_neighbors': 2, 'weights': 'uniform'}\n"
     ]
    }
   ],
   "source": [
    "knn_best_params = grid_knn.best_params_\n",
    "knn_results = pd.DataFrame(grid_knn.cv_results_)\n",
    "worst_score = knn_results.loc[np.argmax(knn_results.rank_test_score)]\n",
    "worst_score_params = worst_score.params\n",
    "print(\"Best Score (accuracy): %f\" % grid_knn.best_score_)\n",
    "print(\"Optimal Hyperparameter Values: \", knn_best_params)\n",
    "print(\"Worst Hyperparameter Valeus: \", worst_score_params)"
   ]
  },
  {
   "cell_type": "markdown",
   "metadata": {},
   "source": [
    "#### Optimized"
   ]
  },
  {
   "cell_type": "markdown",
   "metadata": {},
   "source": [
    "###### Notes \n",
    "- It would seem that having a higher number of N_neighbors is a requriement, this could mean that the data is precise enough in order to make a good estimate, since with lower neighbors would mean that the data has either enough data to account for small chages or that the data is to spread out resulting in small differences from being notices. \n",
    "- Also there seems to be a discrpency when you change the type of folds being used. when using the folds where you use stratified CV, it produces the number of neighbors being lower at 8, although it produces a worse accuracy with 585/601 isntead of with just cv = 5 it makes 587 /601. \n",
    "    - I think that this is because the stratified make sure that each fold has enough of each value in order to decide and model the dataset. So compared to just splitting it into 5 chunks the prediction is going to be more realistic as well as better balanced which is why 8 was shown to be a better predictor. But becasue eerything is more balanced, the actual prediction is going to lose more since straight up 5 balance could've been able to show more things. \n",
    "    - To restate what was just said, equal balancing of the dataset allows for better ability for KNN to use less value for K becasue the dataset's model fit is closer to each other and is able to capture smaller differences, But the actual prediction is going to be lesser becasue it doesn't have the ability or the notion that it can predict outcomes that are not balanced which the test dataset was kind of made to represent."
   ]
  },
  {
   "cell_type": "code",
   "execution_count": 23,
   "metadata": {},
   "outputs": [
    {
     "name": "stdout",
     "output_type": "stream",
     "text": [
      "\n",
      "KNN Optimized w/ CV = CV \n",
      "\n",
      "\n",
      "Train Accuracy:  1.0\n",
      "\n",
      "Test Accuracy:  0.9733777038269551\n",
      "\n",
      "Test - No. Of Correct Predictions 585.0 / 601\n",
      "\n",
      "Test Confusion Matrix:\n",
      "[[ 53  11]\n",
      " [  5 532]]\n",
      "\n",
      "Test Precision = 0.972719\n",
      "Test Recall = 0.973378\n",
      "Test F1 Score = 0.972797\n",
      "\n",
      "Classification Report:\n",
      "              precision    recall  f1-score   support\n",
      "\n",
      "           0       0.91      0.83      0.87        64\n",
      "           1       0.98      0.99      0.99       537\n",
      "\n",
      "    accuracy                           0.97       601\n",
      "   macro avg       0.95      0.91      0.93       601\n",
      "weighted avg       0.97      0.97      0.97       601\n",
      "\n"
     ]
    }
   ],
   "source": [
    "knn2 = KNeighborsClassifier(metric = 'manhattan', n_neighbors = 8, weights = 'distance')\n",
    "knn2.fit(X_train, y_train)\n",
    "prediction = knn2.predict(X_test)\n",
    "training_predictioin = knn2.predict(X_train)\n",
    "\n",
    "print('\\nKNN Optimized w/ CV = CV \\n')\n",
    "training_accuracy = np.mean(training_predictioin == y_train)\n",
    "test_accuracy = np.mean(prediction == y_test)\n",
    "\n",
    "print(\"\\nTrain Accuracy: \", training_accuracy)\n",
    "print(\"\\nTest Accuracy: \", test_accuracy)\n",
    "\n",
    "test_size = X_test.shape[0]\n",
    "test_no_correct = test_size  * test_accuracy\n",
    "\n",
    "print (\"\\nTest - No. Of Correct Predictions\", test_no_correct, \"/\", test_size)\n",
    "\n",
    "\n",
    "print(\"\\nTest Confusion Matrix:\")\n",
    "print(confusion_matrix(y_test, prediction))\n",
    "\n",
    "\n",
    "precision_test = precision_score(y_test, prediction,average='weighted') \n",
    "print(\"\\nTest Precision = %f\" % precision_test)\n",
    "\n",
    "recall_test = recall_score(y_test, prediction,average='weighted')\n",
    "print(\"Test Recall = %f\" % recall_test)\n",
    "\n",
    "\n",
    "f1_test = f1_score(y_test, prediction,average='weighted')\n",
    "print(\"Test F1 Score = %f\" % f1_test)\n",
    "\n",
    "\n",
    "print(\"\\nClassification Report:\")\n",
    "print(classification_report(y_test, prediction))"
   ]
  },
  {
   "cell_type": "code",
   "execution_count": 24,
   "metadata": {},
   "outputs": [
    {
     "name": "stdout",
     "output_type": "stream",
     "text": [
      "\n",
      "KNN Optimized w/ CV = 5\n",
      "\n",
      "\n",
      "Train Accuracy:  1.0\n",
      "\n",
      "Test Accuracy:  0.9767054908485857\n",
      "\n",
      "Test - No. Of Correct Predictions 587.0 / 601\n",
      "\n",
      "Test Confusion Matrix:\n",
      "[[ 52  12]\n",
      " [  2 535]]\n",
      "\n",
      "Test Precision = 0.976454\n",
      "Test Recall = 0.976705\n",
      "Test F1 Score = 0.975826\n",
      "\n",
      "Classification Report:\n",
      "              precision    recall  f1-score   support\n",
      "\n",
      "           0       0.96      0.81      0.88        64\n",
      "           1       0.98      1.00      0.99       537\n",
      "\n",
      "    accuracy                           0.98       601\n",
      "   macro avg       0.97      0.90      0.93       601\n",
      "weighted avg       0.98      0.98      0.98       601\n",
      "\n"
     ]
    }
   ],
   "source": [
    "knn3 = KNeighborsClassifier(metric = 'manhattan', n_neighbors = 10, weights = 'distance')\n",
    "knn3.fit(X_train, y_train)\n",
    "prediction = knn3.predict(X_test)\n",
    "training_predictioin = knn3.predict(X_train)\n",
    "\n",
    "print('\\nKNN Optimized w/ CV = 5\\n')\n",
    "training_accuracy = np.mean(training_predictioin == y_train)\n",
    "test_accuracy = np.mean(prediction == y_test)\n",
    "\n",
    "print(\"\\nTrain Accuracy: \", training_accuracy)\n",
    "print(\"\\nTest Accuracy: \", test_accuracy)\n",
    "\n",
    "test_size = X_test.shape[0]\n",
    "test_no_correct = test_size  * test_accuracy\n",
    "\n",
    "print (\"\\nTest - No. Of Correct Predictions\", test_no_correct, \"/\", test_size)\n",
    "\n",
    "\n",
    "print(\"\\nTest Confusion Matrix:\")\n",
    "print(confusion_matrix(y_test, prediction))\n",
    "\n",
    "\n",
    "precision_test = precision_score(y_test, prediction,average='weighted') \n",
    "print(\"\\nTest Precision = %f\" % precision_test)\n",
    "\n",
    "recall_test = recall_score(y_test, prediction,average='weighted')\n",
    "print(\"Test Recall = %f\" % recall_test)\n",
    "\n",
    "\n",
    "f1_test = f1_score(y_test, prediction,average='weighted')\n",
    "print(\"Test F1 Score = %f\" % f1_test)\n",
    "\n",
    "\n",
    "print(\"\\nClassification Report:\")\n",
    "print(classification_report(y_test, prediction))"
   ]
  },
  {
   "cell_type": "markdown",
   "metadata": {},
   "source": [
    "# Logistic Regression"
   ]
  },
  {
   "cell_type": "markdown",
   "metadata": {},
   "source": [
    "#### Base"
   ]
  },
  {
   "cell_type": "code",
   "execution_count": 25,
   "metadata": {},
   "outputs": [
    {
     "name": "stdout",
     "output_type": "stream",
     "text": [
      "Training R^2 set score: 0.99\n",
      "Test R^2 set score: 0.99\n",
      "\n",
      "Logistic Regression Base\n",
      "\n",
      "R squared score: 0.8426152234636871 \n",
      "Root Mean Squared Error: 0.014975041597337771 \n",
      "Mean Absolute Error 0.014975041597337771\n"
     ]
    }
   ],
   "source": [
    "from sklearn.linear_model import LogisticRegression\n",
    "from sklearn.metrics import r2_score\n",
    "from sklearn.metrics import mean_squared_error\n",
    "from sklearn.metrics import mean_absolute_error\n",
    "\n",
    "logreg_base = LogisticRegression()\n",
    "logreg_base.fit(X_train, y_train)\n",
    "prediction = logreg_base.predict(X_test)\n",
    "print(\"Training R^2 set score: {:.2f}\".format(logreg_base.score(X_train, y_train)))\n",
    "print(\"Test R^2 set score: {:.2f}\".format(logreg_base.score(X_test, y_test)))\n",
    "\n",
    "r2 = r2_score(y_test , prediction)\n",
    "RMSE = mean_squared_error(y_test, prediction)\n",
    "MAE = mean_absolute_error(y_test, prediction)\n",
    "print(\"\\nLogistic Regression Base\")\n",
    "print('\\nR squared score:', r2, '\\nRoot Mean Squared Error:', RMSE, '\\nMean Absolute Error', MAE)"
   ]
  },
  {
   "cell_type": "markdown",
   "metadata": {},
   "source": [
    "#### Hyperparamater Tuning"
   ]
  },
  {
   "cell_type": "code",
   "execution_count": 26,
   "metadata": {},
   "outputs": [
    {
     "name": "stdout",
     "output_type": "stream",
     "text": [
      "Fitting 5 folds for each of 1600 candidates, totalling 8000 fits\n"
     ]
    },
    {
     "name": "stderr",
     "output_type": "stream",
     "text": [
      "[Parallel(n_jobs=4)]: Using backend LokyBackend with 4 concurrent workers.\n",
      "[Parallel(n_jobs=4)]: Done 328 tasks      | elapsed:    1.2s\n",
      "[Parallel(n_jobs=4)]: Done 1576 tasks      | elapsed:   31.2s\n",
      "[Parallel(n_jobs=4)]: Done 2896 tasks      | elapsed:  1.0min\n",
      "[Parallel(n_jobs=4)]: Done 4212 tasks      | elapsed:  1.7min\n",
      "[Parallel(n_jobs=4)]: Done 5430 tasks      | elapsed:  2.6min\n",
      "[Parallel(n_jobs=4)]: Done 6676 tasks      | elapsed:  3.9min\n",
      "[Parallel(n_jobs=4)]: Done 8000 out of 8000 | elapsed:  5.5min finished\n"
     ]
    },
    {
     "data": {
      "text/plain": [
       "GridSearchCV(cv=5, estimator=LogisticRegression(), n_jobs=4,\n",
       "             param_grid={'C': array([1.00000000e-04, 2.63665090e-04, 6.95192796e-04, 1.83298071e-03,\n",
       "       4.83293024e-03, 1.27427499e-02, 3.35981829e-02, 8.85866790e-02,\n",
       "       2.33572147e-01, 6.15848211e-01, 1.62377674e+00, 4.28133240e+00,\n",
       "       1.12883789e+01, 2.97635144e+01, 7.84759970e+01, 2.06913808e+02,\n",
       "       5.45559478e+02, 1.43844989e+03, 3.79269019e+03, 1.00000000e+04]),\n",
       "                         'max_iter': [100, 1000, 2500, 5000],\n",
       "                         'penalty': ['l1', 'l2', 'elasticnet', 'none'],\n",
       "                         'solver': ['lbfgs', 'newton-cg', 'liblinear', 'sag',\n",
       "                                    'saga']},\n",
       "             scoring='neg_root_mean_squared_error', verbose=True)"
      ]
     },
     "execution_count": 26,
     "metadata": {},
     "output_type": "execute_result"
    }
   ],
   "source": [
    "from sklearn.model_selection import GridSearchCV\n",
    "\n",
    "logreg = LogisticRegression()\n",
    "\n",
    "param_grid_log = {\n",
    "        'penalty':['l1', 'l2', 'elasticnet', 'none'],\n",
    "        'C': np.logspace(-4,4,20),\n",
    "        'solver' : ['lbfgs', 'newton-cg', 'liblinear', 'sag', 'saga'],\n",
    "        'max_iter': [100, 1000, 2500, 5000]\n",
    "    }\n",
    "\n",
    "\n",
    "\n",
    "log_grid = GridSearchCV(logreg, param_grid = param_grid_log, scoring = 'neg_root_mean_squared_error', verbose = True, cv=5, n_jobs=4)\n",
    "log_grid.fit(X_train, y_train)"
   ]
  },
  {
   "cell_type": "markdown",
   "metadata": {},
   "source": [
    "#### Printing out the Best + Worst Performing Paramaters"
   ]
  },
  {
   "cell_type": "code",
   "execution_count": 27,
   "metadata": {},
   "outputs": [
    {
     "name": "stdout",
     "output_type": "stream",
     "text": [
      "Best Score (neg_root_mean_squared_error): -0.095905\n",
      "Optimal Hyperparameter Values:  {'C': 1.623776739188721, 'max_iter': 100, 'penalty': 'l2', 'solver': 'lbfgs'}\n",
      "Worst Hyperparameter Valeus:  {'C': 0.0001, 'max_iter': 100, 'penalty': 'l1', 'solver': 'lbfgs'}\n"
     ]
    }
   ],
   "source": [
    "log_best_params = log_grid.best_params_\n",
    "log_results = pd.DataFrame(log_grid.cv_results_)\n",
    "worst_score = log_results.loc[np.argmax(log_results.rank_test_score)]\n",
    "worst_score_params = worst_score.params\n",
    "print(\"Best Score (neg_root_mean_squared_error): %f\" % log_grid.best_score_)\n",
    "print(\"Optimal Hyperparameter Values: \", log_best_params)\n",
    "print(\"Worst Hyperparameter Valeus: \", worst_score_params)"
   ]
  },
  {
   "cell_type": "markdown",
   "metadata": {},
   "source": [
    "#### Evaluating the hyperparamater tuning on test data"
   ]
  },
  {
   "cell_type": "code",
   "execution_count": 28,
   "metadata": {},
   "outputs": [
    {
     "name": "stdout",
     "output_type": "stream",
     "text": [
      "Training R^2 set score: 0.99\n",
      "Test R^2 set score: 0.99\n",
      "\n",
      "Logistic Regression Optimized\n",
      "\n",
      "R squared score: 0.8426152234636871 \n",
      "Root Mean Squared Error: 0.014975041597337771 \n",
      "Mean Absolute Error 0.014975041597337771\n"
     ]
    }
   ],
   "source": [
    "logreg2 = LogisticRegression(C = 0.23357214690901212, max_iter = 1000, penalty = 'l2', solver = 'saga')\n",
    "logreg2.fit(X_train , y_train)\n",
    "prediction = logreg2.predict(X_test)\n",
    "print(\"Training R^2 set score: {:.2f}\".format(logreg2.score(X_train, y_train)))\n",
    "print(\"Test R^2 set score: {:.2f}\".format(logreg2.score(X_test, y_test)))\n",
    "\n",
    "r2 = r2_score(y_test , prediction)\n",
    "RMSE = mean_squared_error(y_test, prediction)\n",
    "MAE = mean_absolute_error(y_test, prediction)\n",
    "\n",
    "print(\"\\nLogistic Regression Optimized\")\n",
    "print('\\nR squared score:', r2, '\\nRoot Mean Squared Error:', RMSE, '\\nMean Absolute Error', MAE)"
   ]
  },
  {
   "cell_type": "markdown",
   "metadata": {},
   "source": [
    "# Support Vector Machines"
   ]
  },
  {
   "cell_type": "markdown",
   "metadata": {},
   "source": [
    "#### Base"
   ]
  },
  {
   "cell_type": "code",
   "execution_count": 29,
   "metadata": {},
   "outputs": [
    {
     "name": "stdout",
     "output_type": "stream",
     "text": [
      "\n",
      "SVM Base\n",
      "\n",
      "\n",
      "Train Accuracy:  0.9912572855953372\n",
      "\n",
      "Test Accuracy:  0.978369384359401\n",
      "\n",
      "Test - No. Of Correct Predictions 588.0 / 601\n",
      "\n",
      "Test Confusion Matrix:\n",
      "[[ 53  11]\n",
      " [  2 535]]\n",
      "\n",
      "Test Precision = 0.978127\n",
      "Test Recall = 0.978369\n",
      "Test F1 Score = 0.977641\n",
      "\n",
      "Classification Report:\n",
      "              precision    recall  f1-score   support\n",
      "\n",
      "           0       0.96      0.83      0.89        64\n",
      "           1       0.98      1.00      0.99       537\n",
      "\n",
      "    accuracy                           0.98       601\n",
      "   macro avg       0.97      0.91      0.94       601\n",
      "weighted avg       0.98      0.98      0.98       601\n",
      "\n"
     ]
    }
   ],
   "source": [
    "from sklearn.svm import SVC\n",
    "from sklearn.model_selection import StratifiedShuffleSplit\n",
    "from sklearn.metrics import confusion_matrix, precision_score, recall_score, f1_score, classification_report\n",
    "import matplotlib.pyplot as plt\n",
    "\n",
    "svm_base = SVC().fit(X_train, y_train)\n",
    "\n",
    "\n",
    "prediction = svm_base.predict(X_test)\n",
    "training_predictioin = svm_base.predict(X_train)\n",
    "\n",
    "print('\\nSVM Base\\n')\n",
    "training_accuracy = np.mean(training_predictioin == y_train)\n",
    "test_accuracy = np.mean(prediction == y_test)\n",
    "\n",
    "print(\"\\nTrain Accuracy: \", training_accuracy)\n",
    "print(\"\\nTest Accuracy: \", test_accuracy)\n",
    "\n",
    "test_size = X_test.shape[0]\n",
    "test_no_correct = test_size  * test_accuracy\n",
    "\n",
    "print (\"\\nTest - No. Of Correct Predictions\", test_no_correct, \"/\", test_size)\n",
    "\n",
    "\n",
    "print(\"\\nTest Confusion Matrix:\")\n",
    "print(confusion_matrix(y_test, prediction))\n",
    "\n",
    "\n",
    "precision_test = precision_score(y_test, prediction,average='weighted') \n",
    "print(\"\\nTest Precision = %f\" % precision_test)\n",
    "\n",
    "recall_test = recall_score(y_test, prediction,average='weighted')\n",
    "print(\"Test Recall = %f\" % recall_test)\n",
    "\n",
    "\n",
    "f1_test = f1_score(y_test, prediction,average='weighted')\n",
    "print(\"Test F1 Score = %f\" % f1_test)\n",
    "\n",
    "\n",
    "print(\"\\nClassification Report:\")\n",
    "print(classification_report(y_test, prediction))"
   ]
  },
  {
   "cell_type": "markdown",
   "metadata": {},
   "source": [
    "#### Hyperparamater Tuning"
   ]
  },
  {
   "cell_type": "markdown",
   "metadata": {},
   "source": [
    "#### First Hyper Paramter tuning "
   ]
  },
  {
   "cell_type": "code",
   "execution_count": 30,
   "metadata": {},
   "outputs": [],
   "source": [
    "cv = StratifiedShuffleSplit(n_splits=5, test_size=0.2, random_state=42)"
   ]
  },
  {
   "cell_type": "code",
   "execution_count": 31,
   "metadata": {},
   "outputs": [
    {
     "data": {
      "text/plain": [
       "GridSearchCV(cv=StratifiedShuffleSplit(n_splits=5, random_state=42, test_size=0.2,\n",
       "            train_size=None),\n",
       "             estimator=SVC(), n_jobs=4,\n",
       "             param_grid={'C': [0.1, 0.2, 0.3, 0.4, 0.5, 0.6, 0.7, 0.8, 0.9],\n",
       "                         'gamma': [0.5, 1, 5, 10, 50, 100, 500, 1000],\n",
       "                         'kernel': ['linear', 'poly', 'rbf', 'sigmmoid']},\n",
       "             scoring='accuracy')"
      ]
     },
     "execution_count": 31,
     "metadata": {},
     "output_type": "execute_result"
    }
   ],
   "source": [
    "param_grid = {\n",
    "    'C':[0.1,0.2,0.3,0.4,0.5,0.6,0.7,0.8,0.9],\n",
    "    'kernel':['linear', 'poly', 'rbf', 'sigmmoid'],\n",
    "    'gamma':[0.5, 1, 5, 10 ,50, 100, 500, 1000]\n",
    "}\n",
    "\n",
    "svm = SVC()\n",
    "grid_svm = GridSearchCV(svm, param_grid , scoring = 'accuracy', cv = cv, n_jobs = 4)\n",
    "grid_svm.fit(X_train, y_train)"
   ]
  },
  {
   "cell_type": "code",
   "execution_count": 32,
   "metadata": {},
   "outputs": [
    {
     "name": "stdout",
     "output_type": "stream",
     "text": [
      "Best Score (accuracy): 0.988358\n",
      "Optimal Hyperparameter Values:  {'C': 0.8, 'gamma': 0.5, 'kernel': 'linear'}\n",
      "Worst Hyperparameter Valeus:  {'C': 0.9, 'gamma': 1000, 'kernel': 'sigmmoid'}\n"
     ]
    }
   ],
   "source": [
    "svm_best_params = grid_svm.best_params_\n",
    "svm_results = pd.DataFrame(grid_svm.cv_results_)\n",
    "worst_score = svm_results.loc[np.argmax(svm_results.rank_test_score)]\n",
    "worst_score_params = worst_score.params\n",
    "print(\"Best Score (accuracy): %f\" % grid_svm.best_score_)\n",
    "print(\"Optimal Hyperparameter Values: \", svm_best_params)\n",
    "print(\"Worst Hyperparameter Valeus: \", worst_score_params)"
   ]
  },
  {
   "cell_type": "markdown",
   "metadata": {},
   "source": [
    "###### Notes \n",
    "Since I saw some differences between the scores using cv = the stratified split vs just 5 I test that here looking for the most accurate. "
   ]
  },
  {
   "cell_type": "code",
   "execution_count": 33,
   "metadata": {},
   "outputs": [
    {
     "data": {
      "text/plain": [
       "GridSearchCV(cv=5, estimator=SVC(), n_jobs=4,\n",
       "             param_grid={'C': [0.1, 0.2, 0.3, 0.4, 0.5, 0.6, 0.7, 0.8, 0.9],\n",
       "                         'gamma': [0.5, 1, 5, 10, 50, 100, 500, 1000],\n",
       "                         'kernel': ['linear', 'poly', 'rbf', 'sigmmoid']},\n",
       "             scoring='accuracy')"
      ]
     },
     "execution_count": 33,
     "metadata": {},
     "output_type": "execute_result"
    }
   ],
   "source": [
    "param_grid = {\n",
    "    'C':[0.1,0.2,0.3,0.4,0.5,0.6,0.7,0.8,0.9],\n",
    "    'kernel':['linear', 'poly', 'rbf', 'sigmmoid'],\n",
    "    'gamma':[0.5, 1, 5, 10 ,50, 100, 500, 1000]\n",
    "}\n",
    "\n",
    "svm = SVC()\n",
    "grid_svm = GridSearchCV(svm, param_grid , scoring = 'accuracy', cv = 5, n_jobs = 4)\n",
    "grid_svm.fit(X_train, y_train)"
   ]
  },
  {
   "cell_type": "code",
   "execution_count": 34,
   "metadata": {},
   "outputs": [
    {
     "name": "stdout",
     "output_type": "stream",
     "text": [
      "Best Score (accuracy): 0.990424\n",
      "Optimal Hyperparameter Values:  {'C': 0.7, 'gamma': 0.5, 'kernel': 'linear'}\n",
      "Worst Hyperparameter Valeus:  {'C': 0.9, 'gamma': 1000, 'kernel': 'sigmmoid'}\n"
     ]
    }
   ],
   "source": [
    "svm_best_params = grid_svm.best_params_\n",
    "svm_results = pd.DataFrame(grid_svm.cv_results_)\n",
    "worst_score = svm_results.loc[np.argmax(svm_results.rank_test_score)]\n",
    "worst_score_params = worst_score.params\n",
    "print(\"Best Score (accuracy): %f\" % grid_svm.best_score_)\n",
    "print(\"Optimal Hyperparameter Values: \", svm_best_params)\n",
    "print(\"Worst Hyperparameter Valeus: \", worst_score_params)"
   ]
  },
  {
   "cell_type": "code",
   "execution_count": 35,
   "metadata": {},
   "outputs": [
    {
     "name": "stdout",
     "output_type": "stream",
     "text": [
      "\n",
      "SVM Optimized w/ CV = CV\n",
      "\n",
      "\n",
      "Train Accuracy:  0.9933388842631141\n",
      "\n",
      "Test Accuracy:  0.9900166389351082\n",
      "\n",
      "Test - No. Of Correct Predictions 595.0 / 601\n",
      "\n",
      "Test Confusion Matrix:\n",
      "[[ 59   5]\n",
      " [  1 536]]\n",
      "\n",
      "Test Precision = 0.989967\n",
      "Test Recall = 0.990017\n",
      "Test F1 Score = 0.989874\n",
      "\n",
      "Classification Report:\n",
      "              precision    recall  f1-score   support\n",
      "\n",
      "           0       0.98      0.92      0.95        64\n",
      "           1       0.99      1.00      0.99       537\n",
      "\n",
      "    accuracy                           0.99       601\n",
      "   macro avg       0.99      0.96      0.97       601\n",
      "weighted avg       0.99      0.99      0.99       601\n",
      "\n"
     ]
    }
   ],
   "source": [
    "svm2 = SVC(C = 0.8, gamma = 0.5, kernel = 'linear')\n",
    "svm2.fit(X_train, y_train)\n",
    "prediction = svm2.predict(X_test)\n",
    "training_predictioin = svm2.predict(X_train)\n",
    "\n",
    "print('\\nSVM Optimized w/ CV = CV\\n')\n",
    "training_accuracy = np.mean(training_predictioin == y_train)\n",
    "test_accuracy = np.mean(prediction == y_test)\n",
    "\n",
    "print(\"\\nTrain Accuracy: \", training_accuracy)\n",
    "print(\"\\nTest Accuracy: \", test_accuracy)\n",
    "\n",
    "test_size = X_test.shape[0]\n",
    "test_no_correct = test_size  * test_accuracy\n",
    "\n",
    "print (\"\\nTest - No. Of Correct Predictions\", test_no_correct, \"/\", test_size)\n",
    "\n",
    "\n",
    "print(\"\\nTest Confusion Matrix:\")\n",
    "print(confusion_matrix(y_test, prediction))\n",
    "\n",
    "\n",
    "precision_test = precision_score(y_test, prediction,average='weighted') \n",
    "print(\"\\nTest Precision = %f\" % precision_test)\n",
    "\n",
    "recall_test = recall_score(y_test, prediction,average='weighted')\n",
    "print(\"Test Recall = %f\" % recall_test)\n",
    "\n",
    "\n",
    "f1_test = f1_score(y_test, prediction,average='weighted')\n",
    "print(\"Test F1 Score = %f\" % f1_test)\n",
    "\n",
    "\n",
    "print(\"\\nClassification Report:\")\n",
    "print(classification_report(y_test, prediction))"
   ]
  },
  {
   "cell_type": "code",
   "execution_count": 36,
   "metadata": {},
   "outputs": [
    {
     "name": "stdout",
     "output_type": "stream",
     "text": [
      "\n",
      "SVM Optimized w/ CV = 5\n",
      "\n",
      "\n",
      "Train Accuracy:  0.9933388842631141\n",
      "\n",
      "Test Accuracy:  0.9900166389351082\n",
      "\n",
      "Test - No. Of Correct Predictions 595.0 / 601\n",
      "\n",
      "Test Confusion Matrix:\n",
      "[[ 59   5]\n",
      " [  1 536]]\n",
      "\n",
      "Test Precision = 0.989967\n",
      "Test Recall = 0.990017\n",
      "Test F1 Score = 0.989874\n",
      "\n",
      "Classification Report:\n",
      "              precision    recall  f1-score   support\n",
      "\n",
      "           0       0.98      0.92      0.95        64\n",
      "           1       0.99      1.00      0.99       537\n",
      "\n",
      "    accuracy                           0.99       601\n",
      "   macro avg       0.99      0.96      0.97       601\n",
      "weighted avg       0.99      0.99      0.99       601\n",
      "\n"
     ]
    }
   ],
   "source": [
    "svm2 = SVC(C = 0.7, gamma = 0.5, kernel = 'linear')\n",
    "svm2.fit(X_train, y_train)\n",
    "prediction = svm2.predict(X_test)\n",
    "training_predictioin = svm2.predict(X_train)\n",
    "\n",
    "print('\\nSVM Optimized w/ CV = 5\\n')\n",
    "training_accuracy = np.mean(training_predictioin == y_train)\n",
    "test_accuracy = np.mean(prediction == y_test)\n",
    "\n",
    "print(\"\\nTrain Accuracy: \", training_accuracy)\n",
    "print(\"\\nTest Accuracy: \", test_accuracy)\n",
    "\n",
    "test_size = X_test.shape[0]\n",
    "test_no_correct = test_size  * test_accuracy\n",
    "\n",
    "print (\"\\nTest - No. Of Correct Predictions\", test_no_correct, \"/\", test_size)\n",
    "\n",
    "\n",
    "print(\"\\nTest Confusion Matrix:\")\n",
    "print(confusion_matrix(y_test, prediction))\n",
    "\n",
    "\n",
    "precision_test = precision_score(y_test, prediction,average='weighted') \n",
    "print(\"\\nTest Precision = %f\" % precision_test)\n",
    "\n",
    "recall_test = recall_score(y_test, prediction,average='weighted')\n",
    "print(\"Test Recall = %f\" % recall_test)\n",
    "\n",
    "\n",
    "f1_test = f1_score(y_test, prediction,average='weighted')\n",
    "print(\"Test F1 Score = %f\" % f1_test)\n",
    "\n",
    "\n",
    "print(\"\\nClassification Report:\")\n",
    "print(classification_report(y_test, prediction))"
   ]
  },
  {
   "cell_type": "markdown",
   "metadata": {},
   "source": [
    "###### Notes \n",
    "As it appears there isn't as much of a descrpency between using CV = the stratified shulffle and cv = 5"
   ]
  },
  {
   "cell_type": "markdown",
   "metadata": {},
   "source": [
    "# Want to look at potentially some changes using SVM. Maybe expand the gamma and c to be 0 - 1 with 0.01 intervals. and look and see the changes "
   ]
  },
  {
   "cell_type": "markdown",
   "metadata": {},
   "source": [
    "###### Looking at the grid search with cv = cv stratified."
   ]
  },
  {
   "cell_type": "code",
   "execution_count": 37,
   "metadata": {},
   "outputs": [
    {
     "data": {
      "text/plain": [
       "GridSearchCV(cv=StratifiedShuffleSplit(n_splits=5, random_state=42, test_size=0.2,\n",
       "            train_size=None),\n",
       "             estimator=SVC(gamma=0.5, kernel='linear'), n_jobs=4,\n",
       "             param_grid={'C': array([0.  , 0.01, 0.02, 0.03, 0.04, 0.05, 0.06, 0.07, 0.08, 0.09, 0.1 ,\n",
       "       0.11, 0.12, 0.13, 0.14, 0.15, 0.16, 0.17, 0.18, 0.19, 0.2 , 0.21,\n",
       "       0.22, 0.23, 0.24, 0.25, 0.26, 0.27, 0.28, 0.29, 0.3 , 0.31, 0.32,\n",
       "       0.33, 0.34, 0.35, 0.36, 0.37, 0.38, 0.39, 0.4 , 0.41, 0.42, 0.43,\n",
       "       0.44, 0.45, 0.46, 0.47, 0.48, 0.49, 0.5 , 0.51, 0.52, 0.53, 0.54,\n",
       "       0.55, 0.56, 0.57, 0.58, 0.59, 0.6 , 0.61, 0.62, 0.63, 0.64, 0.65,\n",
       "       0.66, 0.67, 0.68, 0.69, 0.7 , 0.71, 0.72, 0.73, 0.74, 0.75, 0.76,\n",
       "       0.77, 0.78, 0.79, 0.8 , 0.81, 0.82, 0.83, 0.84, 0.85, 0.86, 0.87,\n",
       "       0.88, 0.89, 0.9 , 0.91, 0.92, 0.93, 0.94, 0.95, 0.96, 0.97, 0.98,\n",
       "       0.99])},\n",
       "             scoring='accuracy')"
      ]
     },
     "execution_count": 37,
     "metadata": {},
     "output_type": "execute_result"
    }
   ],
   "source": [
    "C_range = np.arange(0, 1, 0.01)\n",
    "param_grid = dict(C=C_range)\n",
    "svm_test = SVC(kernel = 'linear', gamma = 0.5)\n",
    "grid_test_svm = GridSearchCV(svm_test, param_grid, scoring = 'accuracy', cv = cv, n_jobs = 4)\n",
    "grid_test_svm.fit(X_train, y_train)"
   ]
  },
  {
   "cell_type": "code",
   "execution_count": 38,
   "metadata": {},
   "outputs": [
    {
     "name": "stdout",
     "output_type": "stream",
     "text": [
      "Best Score (accuracy): 0.989189\n",
      "Optimal Hyperparameter Values:  {'C': 0.9400000000000001}\n",
      "Worst Hyperparameter Valeus:  {'C': 0.0}\n"
     ]
    }
   ],
   "source": [
    "svm_best_params = grid_test_svm.best_params_\n",
    "svm_results = pd.DataFrame(grid_test_svm.cv_results_)\n",
    "worst_score = svm_results.loc[np.argmax(svm_results.rank_test_score)]\n",
    "worst_score_params = worst_score.params\n",
    "print(\"Best Score (accuracy): %f\" % grid_test_svm.best_score_)\n",
    "print(\"Optimal Hyperparameter Values: \", svm_best_params)\n",
    "print(\"Worst Hyperparameter Valeus: \", worst_score_params)"
   ]
  },
  {
   "cell_type": "markdown",
   "metadata": {},
   "source": [
    "###### Looking at gridsearch with cv = 5"
   ]
  },
  {
   "cell_type": "code",
   "execution_count": 39,
   "metadata": {},
   "outputs": [
    {
     "data": {
      "text/plain": [
       "GridSearchCV(cv=5, estimator=SVC(gamma=0.5, kernel='linear'), n_jobs=4,\n",
       "             param_grid={'C': array([0.  , 0.01, 0.02, 0.03, 0.04, 0.05, 0.06, 0.07, 0.08, 0.09, 0.1 ,\n",
       "       0.11, 0.12, 0.13, 0.14, 0.15, 0.16, 0.17, 0.18, 0.19, 0.2 , 0.21,\n",
       "       0.22, 0.23, 0.24, 0.25, 0.26, 0.27, 0.28, 0.29, 0.3 , 0.31, 0.32,\n",
       "       0.33, 0.34, 0.35, 0.36, 0.37, 0.38, 0.39, 0.4 , 0.41, 0.42, 0.43,\n",
       "       0.44, 0.45, 0.46, 0.47, 0.48, 0.49, 0.5 , 0.51, 0.52, 0.53, 0.54,\n",
       "       0.55, 0.56, 0.57, 0.58, 0.59, 0.6 , 0.61, 0.62, 0.63, 0.64, 0.65,\n",
       "       0.66, 0.67, 0.68, 0.69, 0.7 , 0.71, 0.72, 0.73, 0.74, 0.75, 0.76,\n",
       "       0.77, 0.78, 0.79, 0.8 , 0.81, 0.82, 0.83, 0.84, 0.85, 0.86, 0.87,\n",
       "       0.88, 0.89, 0.9 , 0.91, 0.92, 0.93, 0.94, 0.95, 0.96, 0.97, 0.98,\n",
       "       0.99])},\n",
       "             scoring='accuracy')"
      ]
     },
     "execution_count": 39,
     "metadata": {},
     "output_type": "execute_result"
    }
   ],
   "source": [
    "C_range = np.arange(0, 1, 0.01)\n",
    "param_grid = dict(C=C_range)\n",
    "svm_test = SVC(kernel = 'linear', gamma = 0.5)\n",
    "grid_test_svm = GridSearchCV(svm_test, param_grid, scoring = 'accuracy', cv = 5, n_jobs = 4)\n",
    "grid_test_svm.fit(X_train, y_train)"
   ]
  },
  {
   "cell_type": "code",
   "execution_count": 40,
   "metadata": {},
   "outputs": [
    {
     "name": "stdout",
     "output_type": "stream",
     "text": [
      "Best Score (accuracy): 0.990840\n",
      "Optimal Hyperparameter Values:  {'C': 0.68}\n",
      "Worst Hyperparameter Valeus:  {'C': 0.0}\n"
     ]
    }
   ],
   "source": [
    "svm_best_params = grid_test_svm.best_params_\n",
    "svm_results = pd.DataFrame(grid_test_svm.cv_results_)\n",
    "worst_score = svm_results.loc[np.argmax(svm_results.rank_test_score)]\n",
    "worst_score_params = worst_score.params\n",
    "print(\"Best Score (accuracy): %f\" % grid_test_svm.best_score_)\n",
    "print(\"Optimal Hyperparameter Values: \", svm_best_params)\n",
    "print(\"Worst Hyperparameter Valeus: \", worst_score_params)"
   ]
  },
  {
   "cell_type": "code",
   "execution_count": 41,
   "metadata": {},
   "outputs": [
    {
     "name": "stdout",
     "output_type": "stream",
     "text": [
      "\n",
      "SVM Optimized w/ CV = CV\n",
      "\n",
      "\n",
      "Train Accuracy:  0.9937552039966694\n",
      "\n",
      "Test Accuracy:  0.9916805324459235\n",
      "\n",
      "Test - No. Of Correct Predictions 596.0 / 601\n",
      "\n",
      "Test Confusion Matrix:\n",
      "[[ 60   4]\n",
      " [  1 536]]\n",
      "\n",
      "Test Precision = 0.991636\n",
      "Test Recall = 0.991681\n",
      "Test F1 Score = 0.991592\n",
      "\n",
      "Classification Report:\n",
      "              precision    recall  f1-score   support\n",
      "\n",
      "           0       0.98      0.94      0.96        64\n",
      "           1       0.99      1.00      1.00       537\n",
      "\n",
      "    accuracy                           0.99       601\n",
      "   macro avg       0.99      0.97      0.98       601\n",
      "weighted avg       0.99      0.99      0.99       601\n",
      "\n"
     ]
    }
   ],
   "source": [
    "svm3 = SVC(C = 0.9400000000000001, gamma = 0.5, kernel = 'linear')\n",
    "svm3.fit(X_train, y_train)\n",
    "prediction = svm3.predict(X_test)\n",
    "training_predictioin = svm3.predict(X_train)\n",
    "\n",
    "print('\\nSVM Optimized w/ CV = CV\\n')\n",
    "training_accuracy = np.mean(training_predictioin == y_train)\n",
    "test_accuracy = np.mean(prediction == y_test)\n",
    "\n",
    "print(\"\\nTrain Accuracy: \", training_accuracy)\n",
    "print(\"\\nTest Accuracy: \", test_accuracy)\n",
    "\n",
    "test_size = X_test.shape[0]\n",
    "test_no_correct = test_size  * test_accuracy\n",
    "\n",
    "print (\"\\nTest - No. Of Correct Predictions\", test_no_correct, \"/\", test_size)\n",
    "\n",
    "\n",
    "print(\"\\nTest Confusion Matrix:\")\n",
    "print(confusion_matrix(y_test, prediction))\n",
    "\n",
    "\n",
    "precision_test = precision_score(y_test, prediction,average='weighted') \n",
    "print(\"\\nTest Precision = %f\" % precision_test)\n",
    "\n",
    "recall_test = recall_score(y_test, prediction,average='weighted')\n",
    "print(\"Test Recall = %f\" % recall_test)\n",
    "\n",
    "\n",
    "f1_test = f1_score(y_test, prediction,average='weighted')\n",
    "print(\"Test F1 Score = %f\" % f1_test)\n",
    "\n",
    "\n",
    "print(\"\\nClassification Report:\")\n",
    "print(classification_report(y_test, prediction))"
   ]
  },
  {
   "cell_type": "code",
   "execution_count": 42,
   "metadata": {},
   "outputs": [
    {
     "name": "stdout",
     "output_type": "stream",
     "text": [
      "\n",
      "SVM Optimized w/ CV = 5\n",
      "\n",
      "\n",
      "Train Accuracy:  0.9937552039966694\n",
      "\n",
      "Test Accuracy:  0.9900166389351082\n",
      "\n",
      "Test - No. Of Correct Predictions 595.0 / 601\n",
      "\n",
      "Test Confusion Matrix:\n",
      "[[ 59   5]\n",
      " [  1 536]]\n",
      "\n",
      "Test Precision = 0.989967\n",
      "Test Recall = 0.990017\n",
      "Test F1 Score = 0.989874\n",
      "\n",
      "Classification Report:\n",
      "              precision    recall  f1-score   support\n",
      "\n",
      "           0       0.98      0.92      0.95        64\n",
      "           1       0.99      1.00      0.99       537\n",
      "\n",
      "    accuracy                           0.99       601\n",
      "   macro avg       0.99      0.96      0.97       601\n",
      "weighted avg       0.99      0.99      0.99       601\n",
      "\n"
     ]
    }
   ],
   "source": [
    "svm3 = SVC(C =  0.68, gamma = 0.5, kernel = 'linear')\n",
    "svm3.fit(X_train, y_train)\n",
    "prediction = svm3.predict(X_test)\n",
    "training_predictioin = svm3.predict(X_train)\n",
    "\n",
    "print('\\nSVM Optimized w/ CV = 5\\n')\n",
    "training_accuracy = np.mean(training_predictioin == y_train)\n",
    "test_accuracy = np.mean(prediction == y_test)\n",
    "\n",
    "print(\"\\nTrain Accuracy: \", training_accuracy)\n",
    "print(\"\\nTest Accuracy: \", test_accuracy)\n",
    "\n",
    "test_size = X_test.shape[0]\n",
    "test_no_correct = test_size  * test_accuracy\n",
    "\n",
    "print (\"\\nTest - No. Of Correct Predictions\", test_no_correct, \"/\", test_size)\n",
    "\n",
    "\n",
    "print(\"\\nTest Confusion Matrix:\")\n",
    "print(confusion_matrix(y_test, prediction))\n",
    "\n",
    "\n",
    "precision_test = precision_score(y_test, prediction,average='weighted') \n",
    "print(\"\\nTest Precision = %f\" % precision_test)\n",
    "\n",
    "recall_test = recall_score(y_test, prediction,average='weighted')\n",
    "print(\"Test Recall = %f\" % recall_test)\n",
    "\n",
    "\n",
    "f1_test = f1_score(y_test, prediction,average='weighted')\n",
    "print(\"Test F1 Score = %f\" % f1_test)\n",
    "\n",
    "\n",
    "print(\"\\nClassification Report:\")\n",
    "print(classification_report(y_test, prediction))"
   ]
  },
  {
   "cell_type": "markdown",
   "metadata": {},
   "source": [
    "###### Notes \n",
    "So it would appear specifically with this case that the stratified dataset is better sutited to produce these kinds of results compared to using it with KNN. I think this could be due to how specifically the prediction is met, SVM utilizes the Linear kernel, while for KNN its the distance between everything. "
   ]
  },
  {
   "cell_type": "markdown",
   "metadata": {},
   "source": [
    "#### No real change in F1 or even accuracy between the hyperparamter scaling. \n",
    "Default SVC \n",
    "- Gamma = \"Scale\" \n",
    "    - this is equal to 1/(number of features * X.varriance) \n",
    "- Kernal = rbf\n",
    "- C = 1.0 \n",
    "\n",
    "\n",
    "Hyperparamaters \n",
    "\n",
    "\n",
    "- Gamma = 0.4\n",
    "- Kernal = Linear\n",
    "- C = 0.4 \n"
   ]
  },
  {
   "cell_type": "code",
   "execution_count": null,
   "metadata": {},
   "outputs": [],
   "source": []
  },
  {
   "cell_type": "code",
   "execution_count": null,
   "metadata": {},
   "outputs": [],
   "source": []
  }
 ],
 "metadata": {
  "kernelspec": {
   "display_name": "Python 3",
   "language": "python",
   "name": "python3"
  },
  "language_info": {
   "codemirror_mode": {
    "name": "ipython",
    "version": 3
   },
   "file_extension": ".py",
   "mimetype": "text/x-python",
   "name": "python",
   "nbconvert_exporter": "python",
   "pygments_lexer": "ipython3",
   "version": "3.8.5"
  }
 },
 "nbformat": 4,
 "nbformat_minor": 4
}
