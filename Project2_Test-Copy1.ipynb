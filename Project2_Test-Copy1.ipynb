{
 "cells": [
  {
   "cell_type": "markdown",
   "metadata": {},
   "source": [
    "### Import the orginal Dataset, Then re run and and scaling and splitting in order to balancec and clean data\n",
    "\n",
    "## Step 1, 2 "
   ]
  },
  {
   "cell_type": "code",
   "execution_count": 8,
   "metadata": {},
   "outputs": [],
   "source": [
    "import pandas as pd\n",
    "import numpy as np\n",
    "import time\n",
    "# Found Data Set\n",
    "# Generally This dataset is about Econmic Freedoms in the world\n",
    "df = pd.read_csv('efw_cc.csv')\n",
    "dataframe_copy = df.copy()"
   ]
  },
  {
   "cell_type": "code",
   "execution_count": 9,
   "metadata": {},
   "outputs": [],
   "source": [
    "dataframe_copy.loc[dataframe_copy['ECONOMIC FREEDOM'] > 5, 'Econ_Freedom_label'] = '1' # Economic Freedom is above 5\n",
    "dataframe_copy.loc[dataframe_copy['ECONOMIC FREEDOM'] <= 5, 'Econ_Freedom_label'] = '0'# Economic Freedom is between 0 and 5"
   ]
  },
  {
   "cell_type": "code",
   "execution_count": 10,
   "metadata": {},
   "outputs": [
    {
     "name": "stdout",
     "output_type": "stream",
     "text": [
      "\n",
      "Orginal Shape of DataFrame (3726, 36) \n",
      "Shape of dataframe after dropping values that are NA after Categorizing predictor: (3003, 37)\n"
     ]
    }
   ],
   "source": [
    "# I dropped all the rows that are NA in the Predicting categories label (Econ_Freedom_label)\n",
    "dataframe_copy2 = dataframe_copy.dropna(subset = [\"Econ_Freedom_label\"], inplace=False)\n",
    "print(\"\\nOrginal Shape of DataFrame\", df.shape, \"\\nShape of dataframe after dropping values that are NA after Categorizing predictor:\", dataframe_copy2.shape)"
   ]
  },
  {
   "cell_type": "code",
   "execution_count": 30,
   "metadata": {},
   "outputs": [
    {
     "data": {
      "text/html": [
       "<div>\n",
       "<style scoped>\n",
       "    .dataframe tbody tr th:only-of-type {\n",
       "        vertical-align: middle;\n",
       "    }\n",
       "\n",
       "    .dataframe tbody tr th {\n",
       "        vertical-align: top;\n",
       "    }\n",
       "\n",
       "    .dataframe thead th {\n",
       "        text-align: right;\n",
       "    }\n",
       "</style>\n",
       "<table border=\"1\" class=\"dataframe\">\n",
       "  <thead>\n",
       "    <tr style=\"text-align: right;\">\n",
       "      <th></th>\n",
       "      <th>year</th>\n",
       "      <th>ISO_code</th>\n",
       "      <th>countries</th>\n",
       "      <th>ECONOMIC FREEDOM</th>\n",
       "      <th>rank</th>\n",
       "      <th>quartile</th>\n",
       "      <th>1a_government_consumption</th>\n",
       "      <th>1b_transfers</th>\n",
       "      <th>1c_gov_enterprises</th>\n",
       "      <th>1d_top_marg_tax_rate</th>\n",
       "      <th>...</th>\n",
       "      <th>3_sound_money</th>\n",
       "      <th>4a_tariffs</th>\n",
       "      <th>4b_regulatory_trade_barriers</th>\n",
       "      <th>4c_black_market</th>\n",
       "      <th>4d_control_movement_capital_ppl</th>\n",
       "      <th>4_trade</th>\n",
       "      <th>5a_credit_market_reg</th>\n",
       "      <th>5b_labor_market_reg</th>\n",
       "      <th>5c_business_reg</th>\n",
       "      <th>5_regulation</th>\n",
       "    </tr>\n",
       "  </thead>\n",
       "  <tbody>\n",
       "    <tr>\n",
       "      <th>0</th>\n",
       "      <td>2016</td>\n",
       "      <td>ALB</td>\n",
       "      <td>Albania</td>\n",
       "      <td>7.54</td>\n",
       "      <td>34.0</td>\n",
       "      <td>1.0</td>\n",
       "      <td>8.232353</td>\n",
       "      <td>7.509902</td>\n",
       "      <td>8.0</td>\n",
       "      <td>8.0</td>\n",
       "      <td>...</td>\n",
       "      <td>9.553657</td>\n",
       "      <td>8.963556</td>\n",
       "      <td>7.489905</td>\n",
       "      <td>10.00000</td>\n",
       "      <td>6.406138</td>\n",
       "      <td>8.214900</td>\n",
       "      <td>7.098562</td>\n",
       "      <td>6.916278</td>\n",
       "      <td>6.705863</td>\n",
       "      <td>6.906901</td>\n",
       "    </tr>\n",
       "    <tr>\n",
       "      <th>1</th>\n",
       "      <td>2016</td>\n",
       "      <td>DZA</td>\n",
       "      <td>Algeria</td>\n",
       "      <td>4.99</td>\n",
       "      <td>159.0</td>\n",
       "      <td>4.0</td>\n",
       "      <td>2.150000</td>\n",
       "      <td>7.817129</td>\n",
       "      <td>0.0</td>\n",
       "      <td>4.5</td>\n",
       "      <td>...</td>\n",
       "      <td>7.253894</td>\n",
       "      <td>6.872533</td>\n",
       "      <td>2.481294</td>\n",
       "      <td>5.56391</td>\n",
       "      <td>1.590362</td>\n",
       "      <td>4.127025</td>\n",
       "      <td>5.100509</td>\n",
       "      <td>5.029513</td>\n",
       "      <td>5.676956</td>\n",
       "      <td>5.268992</td>\n",
       "    </tr>\n",
       "    <tr>\n",
       "      <th>2</th>\n",
       "      <td>2016</td>\n",
       "      <td>AGO</td>\n",
       "      <td>Angola</td>\n",
       "      <td>5.17</td>\n",
       "      <td>155.0</td>\n",
       "      <td>4.0</td>\n",
       "      <td>7.600000</td>\n",
       "      <td>8.886739</td>\n",
       "      <td>0.0</td>\n",
       "      <td>9.5</td>\n",
       "      <td>...</td>\n",
       "      <td>5.606605</td>\n",
       "      <td>6.989244</td>\n",
       "      <td>2.024949</td>\n",
       "      <td>10.00000</td>\n",
       "      <td>2.044823</td>\n",
       "      <td>5.264754</td>\n",
       "      <td>7.064905</td>\n",
       "      <td>4.560325</td>\n",
       "      <td>4.930271</td>\n",
       "      <td>5.518500</td>\n",
       "    </tr>\n",
       "    <tr>\n",
       "      <th>3</th>\n",
       "      <td>2016</td>\n",
       "      <td>ARG</td>\n",
       "      <td>Argentina</td>\n",
       "      <td>4.84</td>\n",
       "      <td>160.0</td>\n",
       "      <td>4.0</td>\n",
       "      <td>5.335294</td>\n",
       "      <td>6.048930</td>\n",
       "      <td>6.0</td>\n",
       "      <td>4.0</td>\n",
       "      <td>...</td>\n",
       "      <td>5.614336</td>\n",
       "      <td>6.421600</td>\n",
       "      <td>4.811105</td>\n",
       "      <td>0.00000</td>\n",
       "      <td>4.697482</td>\n",
       "      <td>3.982547</td>\n",
       "      <td>5.419820</td>\n",
       "      <td>5.151405</td>\n",
       "      <td>5.535831</td>\n",
       "      <td>5.369019</td>\n",
       "    </tr>\n",
       "    <tr>\n",
       "      <th>4</th>\n",
       "      <td>2016</td>\n",
       "      <td>ARM</td>\n",
       "      <td>Armenia</td>\n",
       "      <td>7.57</td>\n",
       "      <td>29.0</td>\n",
       "      <td>1.0</td>\n",
       "      <td>7.264706</td>\n",
       "      <td>7.748532</td>\n",
       "      <td>8.0</td>\n",
       "      <td>5.0</td>\n",
       "      <td>...</td>\n",
       "      <td>9.521940</td>\n",
       "      <td>8.547556</td>\n",
       "      <td>7.194410</td>\n",
       "      <td>10.00000</td>\n",
       "      <td>6.830998</td>\n",
       "      <td>8.143241</td>\n",
       "      <td>9.102046</td>\n",
       "      <td>6.234630</td>\n",
       "      <td>6.797530</td>\n",
       "      <td>7.378069</td>\n",
       "    </tr>\n",
       "    <tr>\n",
       "      <th>...</th>\n",
       "      <td>...</td>\n",
       "      <td>...</td>\n",
       "      <td>...</td>\n",
       "      <td>...</td>\n",
       "      <td>...</td>\n",
       "      <td>...</td>\n",
       "      <td>...</td>\n",
       "      <td>...</td>\n",
       "      <td>...</td>\n",
       "      <td>...</td>\n",
       "      <td>...</td>\n",
       "      <td>...</td>\n",
       "      <td>...</td>\n",
       "      <td>...</td>\n",
       "      <td>...</td>\n",
       "      <td>...</td>\n",
       "      <td>...</td>\n",
       "      <td>...</td>\n",
       "      <td>...</td>\n",
       "      <td>...</td>\n",
       "      <td>...</td>\n",
       "    </tr>\n",
       "    <tr>\n",
       "      <th>3721</th>\n",
       "      <td>1970</td>\n",
       "      <td>VEN</td>\n",
       "      <td>Venezuela</td>\n",
       "      <td>7.18</td>\n",
       "      <td>10.0</td>\n",
       "      <td>1.0</td>\n",
       "      <td>6.602003</td>\n",
       "      <td>9.827430</td>\n",
       "      <td>7.0</td>\n",
       "      <td>NaN</td>\n",
       "      <td>...</td>\n",
       "      <td>9.713677</td>\n",
       "      <td>8.066667</td>\n",
       "      <td>NaN</td>\n",
       "      <td>10.00000</td>\n",
       "      <td>8.000000</td>\n",
       "      <td>8.688889</td>\n",
       "      <td>9.679680</td>\n",
       "      <td>NaN</td>\n",
       "      <td>NaN</td>\n",
       "      <td>5.312277</td>\n",
       "    </tr>\n",
       "    <tr>\n",
       "      <th>3722</th>\n",
       "      <td>1970</td>\n",
       "      <td>VNM</td>\n",
       "      <td>Vietnam</td>\n",
       "      <td>NaN</td>\n",
       "      <td>NaN</td>\n",
       "      <td>NaN</td>\n",
       "      <td>NaN</td>\n",
       "      <td>NaN</td>\n",
       "      <td>NaN</td>\n",
       "      <td>NaN</td>\n",
       "      <td>...</td>\n",
       "      <td>NaN</td>\n",
       "      <td>NaN</td>\n",
       "      <td>NaN</td>\n",
       "      <td>NaN</td>\n",
       "      <td>NaN</td>\n",
       "      <td>NaN</td>\n",
       "      <td>NaN</td>\n",
       "      <td>NaN</td>\n",
       "      <td>NaN</td>\n",
       "      <td>NaN</td>\n",
       "    </tr>\n",
       "    <tr>\n",
       "      <th>3723</th>\n",
       "      <td>1970</td>\n",
       "      <td>YEM</td>\n",
       "      <td>Yemen, Rep.</td>\n",
       "      <td>NaN</td>\n",
       "      <td>NaN</td>\n",
       "      <td>NaN</td>\n",
       "      <td>NaN</td>\n",
       "      <td>NaN</td>\n",
       "      <td>NaN</td>\n",
       "      <td>NaN</td>\n",
       "      <td>...</td>\n",
       "      <td>NaN</td>\n",
       "      <td>NaN</td>\n",
       "      <td>NaN</td>\n",
       "      <td>NaN</td>\n",
       "      <td>NaN</td>\n",
       "      <td>NaN</td>\n",
       "      <td>NaN</td>\n",
       "      <td>NaN</td>\n",
       "      <td>NaN</td>\n",
       "      <td>NaN</td>\n",
       "    </tr>\n",
       "    <tr>\n",
       "      <th>3724</th>\n",
       "      <td>1970</td>\n",
       "      <td>ZMB</td>\n",
       "      <td>Zambia</td>\n",
       "      <td>NaN</td>\n",
       "      <td>NaN</td>\n",
       "      <td>NaN</td>\n",
       "      <td>3.448131</td>\n",
       "      <td>9.105430</td>\n",
       "      <td>0.0</td>\n",
       "      <td>NaN</td>\n",
       "      <td>...</td>\n",
       "      <td>5.133689</td>\n",
       "      <td>NaN</td>\n",
       "      <td>NaN</td>\n",
       "      <td>0.00000</td>\n",
       "      <td>2.000000</td>\n",
       "      <td>NaN</td>\n",
       "      <td>7.327327</td>\n",
       "      <td>NaN</td>\n",
       "      <td>NaN</td>\n",
       "      <td>NaN</td>\n",
       "    </tr>\n",
       "    <tr>\n",
       "      <th>3725</th>\n",
       "      <td>1970</td>\n",
       "      <td>ZWE</td>\n",
       "      <td>Zimbabwe</td>\n",
       "      <td>NaN</td>\n",
       "      <td>NaN</td>\n",
       "      <td>NaN</td>\n",
       "      <td>7.806922</td>\n",
       "      <td>NaN</td>\n",
       "      <td>2.0</td>\n",
       "      <td>NaN</td>\n",
       "      <td>...</td>\n",
       "      <td>5.036667</td>\n",
       "      <td>NaN</td>\n",
       "      <td>NaN</td>\n",
       "      <td>7.20000</td>\n",
       "      <td>NaN</td>\n",
       "      <td>NaN</td>\n",
       "      <td>NaN</td>\n",
       "      <td>NaN</td>\n",
       "      <td>NaN</td>\n",
       "      <td>NaN</td>\n",
       "    </tr>\n",
       "  </tbody>\n",
       "</table>\n",
       "<p>3726 rows × 36 columns</p>\n",
       "</div>"
      ],
      "text/plain": [
       "      year ISO_code    countries  ECONOMIC FREEDOM   rank  quartile  \\\n",
       "0     2016      ALB      Albania              7.54   34.0       1.0   \n",
       "1     2016      DZA      Algeria              4.99  159.0       4.0   \n",
       "2     2016      AGO       Angola              5.17  155.0       4.0   \n",
       "3     2016      ARG    Argentina              4.84  160.0       4.0   \n",
       "4     2016      ARM      Armenia              7.57   29.0       1.0   \n",
       "...    ...      ...          ...               ...    ...       ...   \n",
       "3721  1970      VEN    Venezuela              7.18   10.0       1.0   \n",
       "3722  1970      VNM      Vietnam               NaN    NaN       NaN   \n",
       "3723  1970      YEM  Yemen, Rep.               NaN    NaN       NaN   \n",
       "3724  1970      ZMB       Zambia               NaN    NaN       NaN   \n",
       "3725  1970      ZWE     Zimbabwe               NaN    NaN       NaN   \n",
       "\n",
       "      1a_government_consumption  1b_transfers  1c_gov_enterprises  \\\n",
       "0                      8.232353      7.509902                 8.0   \n",
       "1                      2.150000      7.817129                 0.0   \n",
       "2                      7.600000      8.886739                 0.0   \n",
       "3                      5.335294      6.048930                 6.0   \n",
       "4                      7.264706      7.748532                 8.0   \n",
       "...                         ...           ...                 ...   \n",
       "3721                   6.602003      9.827430                 7.0   \n",
       "3722                        NaN           NaN                 NaN   \n",
       "3723                        NaN           NaN                 NaN   \n",
       "3724                   3.448131      9.105430                 0.0   \n",
       "3725                   7.806922           NaN                 2.0   \n",
       "\n",
       "      1d_top_marg_tax_rate  ...  3_sound_money  4a_tariffs  \\\n",
       "0                      8.0  ...       9.553657    8.963556   \n",
       "1                      4.5  ...       7.253894    6.872533   \n",
       "2                      9.5  ...       5.606605    6.989244   \n",
       "3                      4.0  ...       5.614336    6.421600   \n",
       "4                      5.0  ...       9.521940    8.547556   \n",
       "...                    ...  ...            ...         ...   \n",
       "3721                   NaN  ...       9.713677    8.066667   \n",
       "3722                   NaN  ...            NaN         NaN   \n",
       "3723                   NaN  ...            NaN         NaN   \n",
       "3724                   NaN  ...       5.133689         NaN   \n",
       "3725                   NaN  ...       5.036667         NaN   \n",
       "\n",
       "      4b_regulatory_trade_barriers  4c_black_market  \\\n",
       "0                         7.489905         10.00000   \n",
       "1                         2.481294          5.56391   \n",
       "2                         2.024949         10.00000   \n",
       "3                         4.811105          0.00000   \n",
       "4                         7.194410         10.00000   \n",
       "...                            ...              ...   \n",
       "3721                           NaN         10.00000   \n",
       "3722                           NaN              NaN   \n",
       "3723                           NaN              NaN   \n",
       "3724                           NaN          0.00000   \n",
       "3725                           NaN          7.20000   \n",
       "\n",
       "      4d_control_movement_capital_ppl   4_trade  5a_credit_market_reg  \\\n",
       "0                            6.406138  8.214900              7.098562   \n",
       "1                            1.590362  4.127025              5.100509   \n",
       "2                            2.044823  5.264754              7.064905   \n",
       "3                            4.697482  3.982547              5.419820   \n",
       "4                            6.830998  8.143241              9.102046   \n",
       "...                               ...       ...                   ...   \n",
       "3721                         8.000000  8.688889              9.679680   \n",
       "3722                              NaN       NaN                   NaN   \n",
       "3723                              NaN       NaN                   NaN   \n",
       "3724                         2.000000       NaN              7.327327   \n",
       "3725                              NaN       NaN                   NaN   \n",
       "\n",
       "      5b_labor_market_reg  5c_business_reg  5_regulation  \n",
       "0                6.916278         6.705863      6.906901  \n",
       "1                5.029513         5.676956      5.268992  \n",
       "2                4.560325         4.930271      5.518500  \n",
       "3                5.151405         5.535831      5.369019  \n",
       "4                6.234630         6.797530      7.378069  \n",
       "...                   ...              ...           ...  \n",
       "3721                  NaN              NaN      5.312277  \n",
       "3722                  NaN              NaN           NaN  \n",
       "3723                  NaN              NaN           NaN  \n",
       "3724                  NaN              NaN           NaN  \n",
       "3725                  NaN              NaN           NaN  \n",
       "\n",
       "[3726 rows x 36 columns]"
      ]
     },
     "execution_count": 30,
     "metadata": {},
     "output_type": "execute_result"
    }
   ],
   "source": [
    "df"
   ]
  },
  {
   "cell_type": "code",
   "execution_count": 31,
   "metadata": {},
   "outputs": [],
   "source": [
    "X = dataframe_copy2.drop(['ECONOMIC FREEDOM', 'Econ_Freedom_label', 'ISO_code', 'countries'], axis = 1)\n",
    "y = dataframe_copy2.Econ_Freedom_label"
   ]
  },
  {
   "cell_type": "code",
   "execution_count": 37,
   "metadata": {},
   "outputs": [
    {
     "ename": "SyntaxError",
     "evalue": "invalid syntax (<ipython-input-37-96832b8c2d2e>, line 9)",
     "output_type": "error",
     "traceback": [
      "\u001b[1;36m  File \u001b[1;32m\"<ipython-input-37-96832b8c2d2e>\"\u001b[1;36m, line \u001b[1;32m9\u001b[0m\n\u001b[1;33m    ...      X_train, X_test = X[train_index], X[test_index]\u001b[0m\n\u001b[1;37m             ^\u001b[0m\n\u001b[1;31mSyntaxError\u001b[0m\u001b[1;31m:\u001b[0m invalid syntax\n"
     ]
    }
   ],
   "source": [
    "from sklearn.model_selection import StratifiedShuffleSplit\n",
    "\n",
    "sss = StratifiedShuffleSplit(n_splits=5, test_size=0.5, random_state=0)\n",
    "sss.get_n_splits(X, y)\n",
    "print(sss)\n",
    "StratifiedShuffleSplit(n_splits=1, random_state=0, ...)\n",
    "for train_index, test_index in sss.split(X, y):\n",
    "   print(\"TRAIN:\", train_index, \"TEST:\", test_index)\n",
    "...      X_train, X_test = X[train_index], X[test_index]\n",
    "...     y_train, y_test = y[train_index], y[test_index]\n"
   ]
  },
  {
   "cell_type": "code",
   "execution_count": 40,
   "metadata": {},
   "outputs": [
    {
     "name": "stdout",
     "output_type": "stream",
     "text": [
      "StratifiedShuffleSplit(n_splits=1, random_state=42, test_size=0.2,\n",
      "            train_size=None)\n",
      "TRAIN: [  96  578 2560 ...  534 1296   54] TEST: [2562 1587 2094 2844  312  128 2936 2611 1234  887 2157 2173 2775 2529\n",
      " 2730  453 1119 2912  371 2595 1972 1412  969 1685 1978 2688 1879    6\n",
      " 1718 1907 1310 2601  743 2878  289  463  885 2477 1103 2310 1210 1833\n",
      "   57 1106  847 1953  648 2692  747 1670   52 2501 2632 1797  236 2755\n",
      " 1889 2374 1345  680 1529  983 2152 2073 1300  373  243  861 2279   84\n",
      " 2430  884 1133 2112  801  829  794   44  727 2015 1265 2790  156 2818\n",
      " 2972 2816 2065 1445 2976 1561 2660 2433  514  140 1643 2664 2998  331\n",
      " 2585 1484 2710 1439 1501 2962  120  563 2779  197 2296 1748 2893 1373\n",
      " 1167  596 1170 1580 2075 2485 2855  293 1668  136 2793 1528 1451   37\n",
      "  581 2066  994 1285 2422 2641  856 1742 2405 1340  960  929 1749 1577\n",
      "   21 1046  546 1198 1859  883  544  791 1163 1050 2673 2952  858 1324\n",
      " 2508 1609 1271 2034  954  762 1472  242  387 2956 2491  538   40 1553\n",
      " 1723 1981 1263 1008 1992 1329  545 1554 1302 2248 1601 2877   11 1636\n",
      "  684   38  804   48  713 2135 1259 1635 1935 2245  704 2513   92 1190\n",
      " 1858 2902 1400 2332 1087 1966 2003  428 1489 1715   93  956 1902  783\n",
      " 1377 2709 2278 1906  879 1987 2352 2145 1260 1517 2260 1603 2865 1403\n",
      "  717  212 1698 2880  465 2483  701 2971 2911  870  990 1850 2224 1028\n",
      " 2801   42 2778 1776  695 2835 1806 1014 1033 2565  602 2306 1202 2561\n",
      "  489 2169  117 3001  641 1693 1383 1394 2553  171  964 2736 2713 2406\n",
      " 2023 1898 1156 1004 2910  240 2121  355  251  450   95 2263 2244  404\n",
      " 2494  580 2922 1975 1423 1938 1697 1979 2857  347  492 1419  273 1361\n",
      " 1425 1790   62 1192 1829 2466  916  955 2600 2694 1254 1186 1294 2999\n",
      " 2939 1242  938 1523  732   70   13 2182  718 1197 1752 1291  403  254\n",
      " 2211 1960  863 2670 1406 2615 2336  113 2751 2964  276  224 2058 2741\n",
      "  681 2627 1287 2409 2774  277 1834  258 1274 1934 2450  486 2958  201\n",
      "  525 2131  755 2819 2886  533 2583 1699  560  557  115 1770 2060  520\n",
      "  257 2571  673 2945 1160 2832 2890  503  993 2300 1930  660  918  433\n",
      " 2200 2537  906 1837  933 2019 2941 2625 2172 1304  769 1354 1900 1532\n",
      " 1920 2090 1617    7 2327  536 2046 2514   81 1851 2116 1989 1408 2482\n",
      "  506  141 2442  119 1590 1209 1105  710 2734  370  332 2663 2662 1737\n",
      "  649  789 1592 1236  694 2207 2808 2516 2833 1630  386  232 1068 1387\n",
      " 1298 1521 1658  472  599 1185 2077 1381 2088  793   77 1917 1328 2324\n",
      "  928  158  572  770  650 1633  746 1208 1471 1786 1701   29 2240 2691\n",
      " 1496  122 1053 1257  264  758  109  178 1464 2769  558  866 1611  663\n",
      " 2378 1903 1703  469 2705 1831 2179  420 2689 1443  699    5  658 1758\n",
      " 2868 1069  517 1181  806 2231 2465 1514 1745 1682  910 1102 1073 2726\n",
      " 1214 1250 2788 1602  552   76 1733 1928  411 2032    3 2236  902  626\n",
      "  647   68 1915 1764   49  210  146 1142  383 2360 2717 1064 2316 1862\n",
      " 2067 1211  830  494  930 2830 2527   64 2589 2820 2246 2913 1398 2810\n",
      " 2777 1121 2343  412 1430 1704  562 2985 2722 2286  378  399 1544 2591\n",
      " 2054 2228 2226 2843 2181 2377  591 1057 1550  231  531 2081  348 2030\n",
      "  780 1756 2979  753 1182 2906 2614 2270 2858 1374 1117 2299 2669  415\n",
      "  914  269  815 2255 2588 2194  935 1066  738 2253  618 2167 1753]\n"
     ]
    }
   ],
   "source": [
    "X_array = X.to_numpy()\n",
    "y_array = y.to_numpy()\n",
    "\n",
    "split = StratifiedShuffleSplit(n_splits = 1, test_size = 0.2, random_state = 42)\n",
    "split.get_n_splits(X_array, y_array)\n",
    "print(split)\n",
    "for train_index , test_index in split.split(X_array, y_array):\n",
    "    print(\"TRAIN:\", train_index, \"TEST:\", test_index)\n",
    "    X_train, X_test = X_array[train_index], X_array[test_index]\n",
    "    y_train, y_test = y_array[train_index] , y_array[test_index]"
   ]
  },
  {
   "cell_type": "code",
   "execution_count": 12,
   "metadata": {},
   "outputs": [
    {
     "name": "stdout",
     "output_type": "stream",
     "text": [
      "\n",
      "Train Value Spread\n",
      " 1    2144\n",
      "0     258\n",
      "Name: Econ_Freedom_label, dtype: int64 \n",
      "Test Value Spread\n",
      " 1    537\n",
      "0     64\n",
      "Name: Econ_Freedom_label, dtype: int64\n"
     ]
    }
   ],
   "source": [
    "from sklearn.model_selection import train_test_split\n",
    "X_train, X_test, y_train, y_test = train_test_split(X, y, test_size = 0.2, random_state = 42, stratify = y)\n",
    "print(\"\\nTrain Value Spread\\n\", y_train.value_counts(),\n",
    "\"\\nTest Value Spread\\n\", y_test.value_counts())"
   ]
  },
  {
   "cell_type": "code",
   "execution_count": 41,
   "metadata": {},
   "outputs": [
    {
     "data": {
      "text/plain": [
       "array([[2.01600000e+03, 8.00000000e+00, 1.00000000e+00, ...,\n",
       "        6.35542380e+00, 7.58697598e+00, 7.74757431e+00],\n",
       "       [2.01300000e+03, 1.38000000e+02, 4.00000000e+00, ...,\n",
       "        3.03189256e+00, 5.92884935e+00, 5.56945249e+00],\n",
       "       [1.99000000e+03, 4.50000000e+01, 2.00000000e+00, ...,\n",
       "                   nan,            nan, 7.48266335e+00],\n",
       "       ...,\n",
       "       [2.01300000e+03, 1.04000000e+02, 3.00000000e+00, ...,\n",
       "        5.91644597e+00, 6.41313310e+00, 6.62896738e+00],\n",
       "       [2.00800000e+03, 9.20000000e+01, 3.00000000e+00, ...,\n",
       "        7.28965445e+00, 4.86167650e+00, 6.17778638e+00],\n",
       "       [2.01600000e+03, 2.00000000e+01, 1.00000000e+00, ...,\n",
       "        7.43924995e+00, 8.18673569e+00, 7.98643966e+00]])"
      ]
     },
     "execution_count": 41,
     "metadata": {},
     "output_type": "execute_result"
    }
   ],
   "source": [
    "X_train"
   ]
  },
  {
   "cell_type": "code",
   "execution_count": 42,
   "metadata": {},
   "outputs": [
    {
     "ename": "TypeError",
     "evalue": "cannot concatenate object of type '<class 'numpy.ndarray'>'; only Series and DataFrame objs are valid",
     "output_type": "error",
     "traceback": [
      "\u001b[1;31m---------------------------------------------------------------------------\u001b[0m",
      "\u001b[1;31mTypeError\u001b[0m                                 Traceback (most recent call last)",
      "\u001b[1;32m<ipython-input-42-ae02a4a1e63b>\u001b[0m in \u001b[0;36m<module>\u001b[1;34m\u001b[0m\n\u001b[1;32m----> 1\u001b[1;33m \u001b[0mdataframe_correlation\u001b[0m \u001b[1;33m=\u001b[0m \u001b[0mpd\u001b[0m\u001b[1;33m.\u001b[0m\u001b[0mconcat\u001b[0m\u001b[1;33m(\u001b[0m\u001b[1;33m[\u001b[0m\u001b[0mdataframe_copy\u001b[0m\u001b[1;33m[\u001b[0m\u001b[1;34m'ECONOMIC FREEDOM'\u001b[0m\u001b[1;33m]\u001b[0m\u001b[1;33m,\u001b[0m\u001b[0mX_train\u001b[0m\u001b[1;33m]\u001b[0m\u001b[1;33m,\u001b[0m \u001b[0maxis\u001b[0m \u001b[1;33m=\u001b[0m \u001b[1;36m1\u001b[0m\u001b[1;33m)\u001b[0m\u001b[1;33m\u001b[0m\u001b[1;33m\u001b[0m\u001b[0m\n\u001b[0m",
      "\u001b[1;32m~\\Anaconda3\\lib\\site-packages\\pandas\\core\\reshape\\concat.py\u001b[0m in \u001b[0;36mconcat\u001b[1;34m(objs, axis, join, ignore_index, keys, levels, names, verify_integrity, sort, copy)\u001b[0m\n\u001b[0;32m    283\u001b[0m     \u001b[0mValueError\u001b[0m\u001b[1;33m:\u001b[0m \u001b[0mIndexes\u001b[0m \u001b[0mhave\u001b[0m \u001b[0moverlapping\u001b[0m \u001b[0mvalues\u001b[0m\u001b[1;33m:\u001b[0m \u001b[1;33m[\u001b[0m\u001b[1;34m'a'\u001b[0m\u001b[1;33m]\u001b[0m\u001b[1;33m\u001b[0m\u001b[1;33m\u001b[0m\u001b[0m\n\u001b[0;32m    284\u001b[0m     \"\"\"\n\u001b[1;32m--> 285\u001b[1;33m     op = _Concatenator(\n\u001b[0m\u001b[0;32m    286\u001b[0m         \u001b[0mobjs\u001b[0m\u001b[1;33m,\u001b[0m\u001b[1;33m\u001b[0m\u001b[1;33m\u001b[0m\u001b[0m\n\u001b[0;32m    287\u001b[0m         \u001b[0maxis\u001b[0m\u001b[1;33m=\u001b[0m\u001b[0maxis\u001b[0m\u001b[1;33m,\u001b[0m\u001b[1;33m\u001b[0m\u001b[1;33m\u001b[0m\u001b[0m\n",
      "\u001b[1;32m~\\Anaconda3\\lib\\site-packages\\pandas\\core\\reshape\\concat.py\u001b[0m in \u001b[0;36m__init__\u001b[1;34m(self, objs, axis, join, keys, levels, names, ignore_index, verify_integrity, copy, sort)\u001b[0m\n\u001b[0;32m    368\u001b[0m                     \u001b[1;34m\"only Series and DataFrame objs are valid\"\u001b[0m\u001b[1;33m\u001b[0m\u001b[1;33m\u001b[0m\u001b[0m\n\u001b[0;32m    369\u001b[0m                 )\n\u001b[1;32m--> 370\u001b[1;33m                 \u001b[1;32mraise\u001b[0m \u001b[0mTypeError\u001b[0m\u001b[1;33m(\u001b[0m\u001b[0mmsg\u001b[0m\u001b[1;33m)\u001b[0m\u001b[1;33m\u001b[0m\u001b[1;33m\u001b[0m\u001b[0m\n\u001b[0m\u001b[0;32m    371\u001b[0m \u001b[1;33m\u001b[0m\u001b[0m\n\u001b[0;32m    372\u001b[0m             \u001b[1;31m# consolidate\u001b[0m\u001b[1;33m\u001b[0m\u001b[1;33m\u001b[0m\u001b[1;33m\u001b[0m\u001b[0m\n",
      "\u001b[1;31mTypeError\u001b[0m: cannot concatenate object of type '<class 'numpy.ndarray'>'; only Series and DataFrame objs are valid"
     ]
    }
   ],
   "source": [
    "dataframe_correlation = pd.concat([dataframe_copy['ECONOMIC FREEDOM'],X_train], axis = 1)"
   ]
  },
  {
   "cell_type": "code",
   "execution_count": 15,
   "metadata": {},
   "outputs": [],
   "source": [
    "corr_matrix = dataframe_correlation.corr()\n",
    "corr_matrix_specific = np.abs(corr_matrix['ECONOMIC FREEDOM'])\n",
    "top_correlations = corr_matrix_specific.sort_values(ascending = False)"
   ]
  },
  {
   "cell_type": "code",
   "execution_count": 16,
   "metadata": {},
   "outputs": [],
   "source": [
    "chosen_correlations = top_correlations['4_trade':'4b_regulatory_trade_barriers']"
   ]
  },
  {
   "cell_type": "code",
   "execution_count": 17,
   "metadata": {},
   "outputs": [],
   "source": [
    "correlation_index = chosen_correlations.index\n",
    "X_train_corr = X_train.loc[:,correlation_index]\n",
    "X_test_corr = X_test.loc[:,correlation_index]"
   ]
  },
  {
   "cell_type": "code",
   "execution_count": 18,
   "metadata": {},
   "outputs": [],
   "source": [
    "from sklearn.preprocessing import StandardScaler\n",
    "scaler = StandardScaler() \n",
    "scaler.fit(X_train_corr)\n",
    "X_train_scaled = pd.DataFrame(scaler.transform(X_train_corr),columns = X_train_corr.columns)  \n",
    "X_test_scaled = pd.DataFrame(scaler.transform(X_test_corr),columns = X_test_corr.columns)\n",
    "\n",
    "#print(\"\\nShape of Training set:\", X_train_scaled.shape, '\\nShape of Testing Set:', X_test_scaled.shape)"
   ]
  },
  {
   "cell_type": "code",
   "execution_count": 19,
   "metadata": {},
   "outputs": [],
   "source": [
    "X_train = X_train_scaled.copy()\n",
    "X_test = X_test_scaled.copy()"
   ]
  },
  {
   "cell_type": "markdown",
   "metadata": {},
   "source": [
    "### Step 3: \n"
   ]
  },
  {
   "cell_type": "code",
   "execution_count": 20,
   "metadata": {},
   "outputs": [
    {
     "data": {
      "image/png": "[encoded data removed]",
      "text/plain": [
       "<Figure size 360x360 with 1 Axes>"
      ]
     },
     "metadata": {},
     "output_type": "display_data"
    }
   ],
   "source": [
    "import seaborn as sns\n",
    "import matplotlib.pyplot as plt\n",
    "\n",
    "training_set = pd.concat([X_train, y_train], axis = 1)\n",
    "sns.set_theme(style=\"ticks\", color_codes=True)\n",
    "\n",
    "sns.catplot(x=\"Econ_Freedom_label\", y=\"4_trade\", data=training_set);"
   ]
  },
  {
   "cell_type": "markdown",
   "metadata": {},
   "source": [
    "#### This is clearly a categorical variable so it is either going to be I would consider this to binary, the distirbution based upon jus the training set it would appear that this is a binomial distribution just becasue of the fact that it is predicting either 0 or a 1. Later on if there were more variables to identify this would notion would change"
   ]
  },
  {
   "cell_type": "markdown",
   "metadata": {},
   "source": [
    "# Step 4: "
   ]
  },
  {
   "cell_type": "markdown",
   "metadata": {},
   "source": [
    "# KNN"
   ]
  },
  {
   "cell_type": "markdown",
   "metadata": {},
   "source": [
    "##### I ran into some errors which wouldn't let me use f1 as a scorer, becasue it wasnt able to attribute the positive label aka yes or no of the prediction, So I modiified the F1 scorer to make it so that 1 is yes and 0 is no\n",
    "###### 1 = greater than 5, 0 is less than or equal to 5. So in other words is the value above 5 Yes everythiing else no. "
   ]
  },
  {
   "cell_type": "markdown",
   "metadata": {},
   "source": [
    "#### Base"
   ]
  },
  {
   "cell_type": "code",
   "execution_count": 21,
   "metadata": {},
   "outputs": [
    {
     "name": "stdout",
     "output_type": "stream",
     "text": [
      "\n",
      "KNN Optimized\n",
      "\n",
      "\n",
      "Train Accuracy:  0.9783513738551207\n",
      "\n",
      "Test Accuracy:  0.9717138103161398\n",
      "\n",
      "Test - No. Of Correct Predictions 584.0 / 601\n",
      "\n",
      "Test Confusion Matrix:\n",
      "[[ 53  11]\n",
      " [  6 531]]\n",
      "\n",
      "Test Precision = 0.971037\n",
      "Test Recall = 0.971714\n",
      "Test F1 Score = 0.971204\n",
      "\n",
      "Classification Report:\n",
      "              precision    recall  f1-score   support\n",
      "\n",
      "           0       0.90      0.83      0.86        64\n",
      "           1       0.98      0.99      0.98       537\n",
      "\n",
      "    accuracy                           0.97       601\n",
      "   macro avg       0.94      0.91      0.92       601\n",
      "weighted avg       0.97      0.97      0.97       601\n",
      "\n"
     ]
    }
   ],
   "source": [
    "from sklearn.neighbors import KNeighborsClassifier\n",
    "from sklearn.model_selection import GridSearchCV\n",
    "from sklearn.metrics import confusion_matrix, precision_score, recall_score, f1_score, classification_report\n",
    "\n",
    "knn_base = KNeighborsClassifier()\n",
    "knn_base.fit(X_train , y_train)\n",
    "prediction = knn_base.predict(X_test)\n",
    "training_predictioin = knn_base.predict(X_train)\n",
    "\n",
    "print('\\nKNN Optimized\\n')\n",
    "training_accuracy = np.mean(training_predictioin == y_train)\n",
    "test_accuracy = np.mean(prediction == y_test)\n",
    "\n",
    "print(\"\\nTrain Accuracy: \", training_accuracy)\n",
    "print(\"\\nTest Accuracy: \", test_accuracy)\n",
    "\n",
    "test_size = X_test.shape[0]\n",
    "test_no_correct = test_size  * test_accuracy\n",
    "\n",
    "print (\"\\nTest - No. Of Correct Predictions\", test_no_correct, \"/\", test_size)\n",
    "\n",
    "\n",
    "print(\"\\nTest Confusion Matrix:\")\n",
    "print(confusion_matrix(y_test, prediction))\n",
    "\n",
    "\n",
    "precision_test = precision_score(y_test, prediction,average='weighted') \n",
    "print(\"\\nTest Precision = %f\" % precision_test)\n",
    "\n",
    "recall_test = recall_score(y_test, prediction,average='weighted')\n",
    "print(\"Test Recall = %f\" % recall_test)\n",
    "\n",
    "\n",
    "f1_test = f1_score(y_test, prediction,average='weighted')\n",
    "print(\"Test F1 Score = %f\" % f1_test)\n",
    "\n",
    "\n",
    "print(\"\\nClassification Report:\")\n",
    "print(classification_report(y_test, prediction))"
   ]
  },
  {
   "cell_type": "markdown",
   "metadata": {},
   "source": [
    "#### Hyperparamater Tuning"
   ]
  },
  {
   "cell_type": "code",
   "execution_count": 22,
   "metadata": {},
   "outputs": [],
   "source": [
    "from sklearn.model_selection import StratifiedShuffleSplit\n",
    "cv = StratifiedShuffleSplit(n_splits=5, test_size=0.2, random_state=42)"
   ]
  },
  {
   "cell_type": "code",
   "execution_count": 23,
   "metadata": {},
   "outputs": [
    {
     "name": "stdout",
     "output_type": "stream",
     "text": [
      "Fitting 5 folds for each of 240 candidates, totalling 1200 fits\n"
     ]
    },
    {
     "data": {
      "text/plain": [
       "GridSearchCV(cv=5, estimator=KNeighborsClassifier(), n_jobs=4,\n",
       "             param_grid={'algorithm': ['auto', 'ball_tree', 'kd_tree', 'brute'],\n",
       "                         'metric': ['manhattan', 'minkowski', 'euclidean'],\n",
       "                         'n_neighbors': [1, 2, 3, 4, 5, 6, 7, 8, 9, 10],\n",
       "                         'weights': ['uniform', 'distance']},\n",
       "             scoring='accuracy', verbose=True)"
      ]
     },
     "execution_count": 23,
     "metadata": {},
     "output_type": "execute_result"
    }
   ],
   "source": [
    "from sklearn.metrics import f1_score\n",
    "from sklearn.metrics import make_scorer\n",
    "\n",
    "f1_scorer = make_scorer(f1_score, pos_label= '1')\n",
    "param_grid = {\n",
    "    'metric':['manhattan', 'minkowski', 'euclidean'],\n",
    "    'n_neighbors':[1,2,3,4,5,6,7,8,9,10],\n",
    "    'weights': ['uniform', 'distance'],\n",
    "    'algorithm': ['auto', 'ball_tree', 'kd_tree', 'brute'],\n",
    "    \n",
    "}\n",
    "\n",
    "knn = KNeighborsClassifier()\n",
    "grid_knn = GridSearchCV(knn, param_grid, scoring = 'accuracy', cv = 5, n_jobs = 4, verbose = True)\n",
    "grid_knn.fit(X_train, y_train)"
   ]
  },
  {
   "cell_type": "code",
   "execution_count": 121,
   "metadata": {},
   "outputs": [
    {
     "name": "stdout",
     "output_type": "stream",
     "text": [
      "Best Score (accuracy): 0.969192\n",
      "Optimal Hyperparameter Values:  {'algorithm': 'auto', 'metric': 'manhattan', 'n_neighbors': 10, 'weights': 'distance'}\n",
      "Worst Hyperparameter Valeus:  {'algorithm': 'auto', 'metric': 'minkowski', 'n_neighbors': 2, 'weights': 'uniform'}\n"
     ]
    }
   ],
   "source": [
    "knn_best_params = grid_knn.best_params_\n",
    "knn_results = pd.DataFrame(grid_knn.cv_results_)\n",
    "worst_score = knn_results.loc[np.argmax(knn_results.rank_test_score)]\n",
    "worst_score_params = worst_score.params\n",
    "print(\"Best Score (accuracy): %f\" % grid_knn.best_score_)\n",
    "print(\"Optimal Hyperparameter Values: \", knn_best_params)\n",
    "print(\"Worst Hyperparameter Valeus: \", worst_score_params)"
   ]
  },
  {
   "cell_type": "markdown",
   "metadata": {},
   "source": [
    "#### Optimized"
   ]
  },
  {
   "cell_type": "code",
   "execution_count": 122,
   "metadata": {},
   "outputs": [
    {
     "name": "stdout",
     "output_type": "stream",
     "text": [
      "\n",
      "KNN Optimized\n",
      "\n",
      "\n",
      "Train Accuracy:  1.0\n",
      "\n",
      "Test Accuracy:  0.9733777038269551\n",
      "\n",
      "Test - No. Of Correct Predictions 585.0 / 601\n",
      "\n",
      "Test Confusion Matrix:\n",
      "[[ 53  11]\n",
      " [  5 532]]\n",
      "\n",
      "Test Precision = 0.972719\n",
      "Test Recall = 0.973378\n",
      "Test F1 Score = 0.972797\n",
      "\n",
      "Classification Report:\n",
      "              precision    recall  f1-score   support\n",
      "\n",
      "           0       0.91      0.83      0.87        64\n",
      "           1       0.98      0.99      0.99       537\n",
      "\n",
      "    accuracy                           0.97       601\n",
      "   macro avg       0.95      0.91      0.93       601\n",
      "weighted avg       0.97      0.97      0.97       601\n",
      "\n"
     ]
    }
   ],
   "source": [
    "knn2 = KNeighborsClassifier(metric = 'manhattan', n_neighbors = 10, weights = 'distance')\n",
    "knn2.fit(X_train, y_train)\n",
    "prediction = knn2.predict(X_test)\n",
    "training_predictioin = knn2.predict(X_train)\n",
    "\n",
    "print('\\nKNN Optimized\\n')\n",
    "training_accuracy = np.mean(training_predictioin == y_train)\n",
    "test_accuracy = np.mean(prediction == y_test)\n",
    "\n",
    "print(\"\\nTrain Accuracy: \", training_accuracy)\n",
    "print(\"\\nTest Accuracy: \", test_accuracy)\n",
    "\n",
    "test_size = X_test.shape[0]\n",
    "test_no_correct = test_size  * test_accuracy\n",
    "\n",
    "print (\"\\nTest - No. Of Correct Predictions\", test_no_correct, \"/\", test_size)\n",
    "\n",
    "\n",
    "print(\"\\nTest Confusion Matrix:\")\n",
    "print(confusion_matrix(y_test, prediction))\n",
    "\n",
    "\n",
    "precision_test = precision_score(y_test, prediction,average='weighted') \n",
    "print(\"\\nTest Precision = %f\" % precision_test)\n",
    "\n",
    "recall_test = recall_score(y_test, prediction,average='weighted')\n",
    "print(\"Test Recall = %f\" % recall_test)\n",
    "\n",
    "\n",
    "f1_test = f1_score(y_test, prediction,average='weighted')\n",
    "print(\"Test F1 Score = %f\" % f1_test)\n",
    "\n",
    "\n",
    "print(\"\\nClassification Report:\")\n",
    "print(classification_report(y_test, prediction))"
   ]
  },
  {
   "cell_type": "markdown",
   "metadata": {},
   "source": [
    "# Logistic Regression"
   ]
  },
  {
   "cell_type": "markdown",
   "metadata": {},
   "source": [
    "#### Base"
   ]
  },
  {
   "cell_type": "code",
   "execution_count": 77,
   "metadata": {
    "collapsed": true,
    "jupyter": {
     "outputs_hidden": true,
     "source_hidden": true
    }
   },
   "outputs": [
    {
     "name": "stdout",
     "output_type": "stream",
     "text": [
      "Training R^2 set score: 0.98\n",
      "Test R^2 set score: 0.97\n",
      "\n",
      "Logistic Regression Base\n",
      "\n",
      "R squared score: 0.6502560521415269 \n",
      "Root Mean Squared Error: 0.033277870216306155 \n",
      "Mean Absolute Error 0.033277870216306155\n"
     ]
    }
   ],
   "source": [
    "from sklearn.linear_model import LogisticRegression\n",
    "from sklearn.metrics import r2_score\n",
    "from sklearn.metrics import mean_squared_error\n",
    "from sklearn.metrics import mean_absolute_error\n",
    "\n",
    "logreg_base = LogisticRegression()\n",
    "logreg_base.fit(X_train, y_train)\n",
    "prediction = logreg_base.predict(X_test)\n",
    "print(\"Training R^2 set score: {:.2f}\".format(logreg_base.score(X_train, y_train)))\n",
    "print(\"Test R^2 set score: {:.2f}\".format(logreg_base.score(X_test, y_test)))\n",
    "\n",
    "r2 = r2_score(y_test , prediction)\n",
    "RMSE = mean_squared_error(y_test, prediction)\n",
    "MAE = mean_absolute_error(y_test, prediction)\n",
    "print(\"\\nLogistic Regression Base\")\n",
    "print('\\nR squared score:', r2, '\\nRoot Mean Squared Error:', RMSE, '\\nMean Absolute Error', MAE)"
   ]
  },
  {
   "cell_type": "markdown",
   "metadata": {},
   "source": [
    "#### Hyperparamater Tuning"
   ]
  },
  {
   "cell_type": "code",
   "execution_count": 113,
   "metadata": {
    "collapsed": true,
    "jupyter": {
     "outputs_hidden": true,
     "source_hidden": true
    }
   },
   "outputs": [
    {
     "name": "stdout",
     "output_type": "stream",
     "text": [
      "Fitting 5 folds for each of 1600 candidates, totalling 8000 fits\n"
     ]
    },
    {
     "name": "stderr",
     "output_type": "stream",
     "text": [
      "[Parallel(n_jobs=4)]: Using backend LokyBackend with 4 concurrent workers.\n",
      "[Parallel(n_jobs=4)]: Done  68 tasks      | elapsed:    2.8s\n",
      "[Parallel(n_jobs=4)]: Done 2556 tasks      | elapsed:   18.9s\n",
      "[Parallel(n_jobs=4)]: Done 5140 tasks      | elapsed:   49.8s\n",
      "[Parallel(n_jobs=4)]: Done 7940 tasks      | elapsed:  1.6min\n",
      "[Parallel(n_jobs=4)]: Done 8000 out of 8000 | elapsed:  1.6min finished\n",
      "C:\\Users\\scott\\anaconda3\\lib\\site-packages\\sklearn\\linear_model\\_logistic.py:1320: UserWarning: Setting penalty='none' will ignore the C and l1_ratio parameters\n",
      "  warnings.warn(\n",
      "C:\\Users\\scott\\anaconda3\\lib\\site-packages\\sklearn\\linear_model\\_sag.py:329: ConvergenceWarning: The max_iter was reached which means the coef_ did not converge\n",
      "  warnings.warn(\"The max_iter was reached which means \"\n"
     ]
    },
    {
     "data": {
      "text/plain": [
       "GridSearchCV(cv=5, estimator=LogisticRegression(), n_jobs=4,\n",
       "             param_grid={'C': array([1.00000000e-04, 2.63665090e-04, 6.95192796e-04, 1.83298071e-03,\n",
       "       4.83293024e-03, 1.27427499e-02, 3.35981829e-02, 8.85866790e-02,\n",
       "       2.33572147e-01, 6.15848211e-01, 1.62377674e+00, 4.28133240e+00,\n",
       "       1.12883789e+01, 2.97635144e+01, 7.84759970e+01, 2.06913808e+02,\n",
       "       5.45559478e+02, 1.43844989e+03, 3.79269019e+03, 1.00000000e+04]),\n",
       "                         'max_iter': [100, 1000, 2500, 5000],\n",
       "                         'penalty': ['l1', 'l2', 'elasticnet', 'none'],\n",
       "                         'solver': ['lbfgs', 'newton-cg', 'liblinear', 'sag',\n",
       "                                    'saga']},\n",
       "             scoring='neg_root_mean_squared_error', verbose=True)"
      ]
     },
     "execution_count": 113,
     "metadata": {},
     "output_type": "execute_result"
    }
   ],
   "source": [
    "from sklearn.model_selection import GridSearchCV\n",
    "\n",
    "logreg = LogisticRegression()\n",
    "\n",
    "param_grid_log = {\n",
    "        'penalty':['l1', 'l2', 'elasticnet', 'none'],\n",
    "        'C': np.logspace(-4,4,20),\n",
    "        'solver' : ['lbfgs', 'newton-cg', 'liblinear', 'sag', 'saga'],\n",
    "        'max_iter': [100, 1000, 2500, 5000]\n",
    "    }\n",
    "\n",
    "\n",
    "\n",
    "log_grid = GridSearchCV(logreg, param_grid = param_grid_log, scoring = 'neg_root_mean_squared_error', verbose = True, cv=5, n_jobs=4)\n",
    "log_grid.fit(X_train, y_train)"
   ]
  },
  {
   "cell_type": "markdown",
   "metadata": {},
   "source": [
    "#### Printing out the Best + Worst Performing Paramaters"
   ]
  },
  {
   "cell_type": "code",
   "execution_count": 56,
   "metadata": {
    "collapsed": true,
    "jupyter": {
     "outputs_hidden": true,
     "source_hidden": true
    }
   },
   "outputs": [
    {
     "name": "stdout",
     "output_type": "stream",
     "text": [
      "Best Score (neg_root_mean_squared_error): -0.163087\n",
      "Optimal Hyperparameter Values:  {'C': 0.23357214690901212, 'max_iter': 1000, 'penalty': 'l2', 'solver': 'saga'}\n",
      "Worst Hyperparameter Valeus:  {'C': 0.0001, 'max_iter': 100, 'penalty': 'l1', 'solver': 'lbfgs'}\n"
     ]
    }
   ],
   "source": [
    "log_best_params = log_grid.best_params_\n",
    "log_results = pd.DataFrame(log_grid.cv_results_)\n",
    "worst_score = log_results.loc[np.argmax(log_results.rank_test_score)]\n",
    "worst_score_params = worst_score.params\n",
    "print(\"Best Score (neg_root_mean_squared_error): %f\" % log_grid.best_score_)\n",
    "print(\"Optimal Hyperparameter Values: \", log_best_params)\n",
    "print(\"Worst Hyperparameter Valeus: \", worst_score_params)"
   ]
  },
  {
   "cell_type": "markdown",
   "metadata": {},
   "source": [
    "#### Evaluating the hyperparamater tuning on test data"
   ]
  },
  {
   "cell_type": "code",
   "execution_count": 58,
   "metadata": {
    "collapsed": true,
    "jupyter": {
     "outputs_hidden": true,
     "source_hidden": true
    }
   },
   "outputs": [
    {
     "name": "stdout",
     "output_type": "stream",
     "text": [
      "Training R^2 set score: 0.98\n",
      "Test R^2 set score: 0.98\n",
      "\n",
      "Logistic Regression Optimized\n",
      "\n",
      "R squared score: 0.7872189768100548 \n",
      "Root Mean Squared Error: 0.019966722129783693 \n",
      "Mean Absolute Error 0.019966722129783693\n"
     ]
    }
   ],
   "source": [
    "logreg2 = LogisticRegression(C = 0.23357214690901212, max_iter = 1000, penalty = 'l2', solver = 'saga')\n",
    "logreg2.fit(X_train , y_train)\n",
    "prediction = logreg2.predict(X_test)\n",
    "print(\"Training R^2 set score: {:.2f}\".format(logreg2.score(X_train, y_train)))\n",
    "print(\"Test R^2 set score: {:.2f}\".format(logreg2.score(X_test, y_test)))\n",
    "\n",
    "r2 = r2_score(y_test , prediction)\n",
    "RMSE = mean_squared_error(y_test, prediction)\n",
    "MAE = mean_absolute_error(y_test, prediction)\n",
    "\n",
    "print(\"\\nLogistic Regression Optimized\")\n",
    "print('\\nR squared score:', r2, '\\nRoot Mean Squared Error:', RMSE, '\\nMean Absolute Error', MAE)"
   ]
  },
  {
   "cell_type": "markdown",
   "metadata": {},
   "source": [
    "# Support Vector Machines"
   ]
  },
  {
   "cell_type": "markdown",
   "metadata": {},
   "source": [
    "#### Base"
   ]
  },
  {
   "cell_type": "code",
   "execution_count": 94,
   "metadata": {
    "collapsed": true,
    "jupyter": {
     "outputs_hidden": true
    }
   },
   "outputs": [
    {
     "name": "stdout",
     "output_type": "stream",
     "text": [
      "\\SVM Base\n",
      "\n",
      "\n",
      "Train Accuracy:  0.9837635303913406\n",
      "\n",
      "Test Accuracy:  0.9633943427620633\n",
      "\n",
      "Test - No. Of Correct Predictions 579.0 / 601\n",
      "\n",
      "Test Confusion Matrix:\n",
      "[[ 51  13]\n",
      " [  9 528]]\n",
      "\n",
      "Test Precision = 0.962556\n",
      "Test Recall = 0.963394\n",
      "Test F1 Score = 0.962872\n",
      "\n",
      "Classification Report:\n",
      "              precision    recall  f1-score   support\n",
      "\n",
      "           0       0.85      0.80      0.82        64\n",
      "           1       0.98      0.98      0.98       537\n",
      "\n",
      "    accuracy                           0.96       601\n",
      "   macro avg       0.91      0.89      0.90       601\n",
      "weighted avg       0.96      0.96      0.96       601\n",
      "\n"
     ]
    }
   ],
   "source": [
    "from sklearn.svm import SVC\n",
    "from sklearn.model_selection import StratifiedShuffleSplit\n",
    "from sklearn.metrics import confusion_matrix, precision_score, recall_score, f1_score, classification_report\n",
    "import matplotlib.pyplot as plt\n",
    "\n",
    "svm_base = SVC().fit(X_train, y_train)\n",
    "\n",
    "\n",
    "prediction = svm_base.predict(X_test)\n",
    "training_predictioin = svm_base.predict(X_train)\n",
    "\n",
    "print('\\SVM Base\\n')\n",
    "training_accuracy = np.mean(training_predictioin == y_train)\n",
    "test_accuracy = np.mean(prediction == y_test)\n",
    "\n",
    "print(\"\\nTrain Accuracy: \", training_accuracy)\n",
    "print(\"\\nTest Accuracy: \", test_accuracy)\n",
    "\n",
    "test_size = X_test.shape[0]\n",
    "test_no_correct = test_size  * test_accuracy\n",
    "\n",
    "print (\"\\nTest - No. Of Correct Predictions\", test_no_correct, \"/\", test_size)\n",
    "\n",
    "\n",
    "print(\"\\nTest Confusion Matrix:\")\n",
    "print(confusion_matrix(y_test, prediction))\n",
    "\n",
    "\n",
    "precision_test = precision_score(y_test, prediction,average='weighted') \n",
    "print(\"\\nTest Precision = %f\" % precision_test)\n",
    "\n",
    "recall_test = recall_score(y_test, prediction,average='weighted')\n",
    "print(\"Test Recall = %f\" % recall_test)\n",
    "\n",
    "\n",
    "f1_test = f1_score(y_test, prediction,average='weighted')\n",
    "print(\"Test F1 Score = %f\" % f1_test)\n",
    "\n",
    "\n",
    "print(\"\\nClassification Report:\")\n",
    "print(classification_report(y_test, prediction))"
   ]
  },
  {
   "cell_type": "markdown",
   "metadata": {},
   "source": [
    "#### Hyperparamater Tuning"
   ]
  },
  {
   "cell_type": "code",
   "execution_count": 85,
   "metadata": {},
   "outputs": [],
   "source": [
    "cv = StratifiedShuffleSplit(n_splits=5, test_size=0.2, random_state=42)"
   ]
  },
  {
   "cell_type": "code",
   "execution_count": 101,
   "metadata": {
    "jupyter": {
     "source_hidden": true
    }
   },
   "outputs": [
    {
     "data": {
      "text/plain": [
       "GridSearchCV(cv=StratifiedShuffleSplit(n_splits=5, random_state=42, test_size=0.2,\n",
       "            train_size=None),\n",
       "             estimator=SVC(), n_jobs=4,\n",
       "             param_grid={'C': [0.1, 0.2, 0.3, 0.4, 0.5, 0.6, 0.7, 0.8, 0.9],\n",
       "                         'gamma': [0.5, 1, 5, 10, 50, 100, 500, 1000],\n",
       "                         'kernel': ['linear', 'poly', 'rbf', 'sigmmoid']})"
      ]
     },
     "execution_count": 101,
     "metadata": {},
     "output_type": "execute_result"
    }
   ],
   "source": [
    "param_grid = {\n",
    "    'C':[0.1,0.2,0.3,0.4,0.5,0.6,0.7,0.8,0.9],\n",
    "    'kernel':['linear', 'poly', 'rbf', 'sigmmoid'],\n",
    "    'gamma':[0.5, 1, 5, 10 ,50, 100, 500, 1000]\n",
    "}\n",
    "\n",
    "svm = SVC()\n",
    "grid_svm = GridSearchCV(svm, param_grid , scorer =f1_scorer, cv = cv, n_jobs = 4)\n",
    "grid_svm.fit(X_train, y_train)"
   ]
  },
  {
   "cell_type": "code",
   "execution_count": 102,
   "metadata": {},
   "outputs": [
    {
     "name": "stdout",
     "output_type": "stream",
     "text": [
      "Best Score (accuracy): 0.978794\n",
      "Optimal Hyperparameter Values:  {'C': 0.4, 'gamma': 0.5, 'kernel': 'linear'}\n",
      "Worst Hyperparameter Valeus:  {'C': 0.9, 'gamma': 1000, 'kernel': 'sigmmoid'}\n"
     ]
    }
   ],
   "source": [
    "svm_best_params = grid_svm.best_params_\n",
    "svm_results = pd.DataFrame(grid_svm.cv_results_)\n",
    "worst_score = svm_results.loc[np.argmax(svm_results.rank_test_score)]\n",
    "worst_score_params = worst_score.params\n",
    "print(\"Best Score (accuracy): %f\" % grid_svm.best_score_)\n",
    "print(\"Optimal Hyperparameter Values: \", svm_best_params)\n",
    "print(\"Worst Hyperparameter Valeus: \", worst_score_params)"
   ]
  },
  {
   "cell_type": "code",
   "execution_count": 95,
   "metadata": {},
   "outputs": [
    {
     "name": "stdout",
     "output_type": "stream",
     "text": [
      "\\SVM Optimized\n",
      "\n",
      "\n",
      "Train Accuracy:  0.9804329725228976\n",
      "\n",
      "Test Accuracy:  0.9633943427620633\n",
      "\n",
      "Test - No. Of Correct Predictions 579.0 / 601\n",
      "\n",
      "Test Confusion Matrix:\n",
      "[[ 52  12]\n",
      " [ 10 527]]\n",
      "\n",
      "Test Precision = 0.962932\n",
      "Test Recall = 0.963394\n",
      "Test F1 Score = 0.963138\n",
      "\n",
      "Classification Report:\n",
      "              precision    recall  f1-score   support\n",
      "\n",
      "           0       0.84      0.81      0.83        64\n",
      "           1       0.98      0.98      0.98       537\n",
      "\n",
      "    accuracy                           0.96       601\n",
      "   macro avg       0.91      0.90      0.90       601\n",
      "weighted avg       0.96      0.96      0.96       601\n",
      "\n"
     ]
    }
   ],
   "source": [
    "svm2 = SVC(C = 0.4, gamma = 0.5, kernel = 'linear')\n",
    "svm2.fit(X_train, y_train)\n",
    "prediction = svm2.predict(X_test)\n",
    "training_predictioin = svm2.predict(X_train)\n",
    "\n",
    "print('\\SVM Optimized\\n')\n",
    "training_accuracy = np.mean(training_predictioin == y_train)\n",
    "test_accuracy = np.mean(prediction == y_test)\n",
    "\n",
    "print(\"\\nTrain Accuracy: \", training_accuracy)\n",
    "print(\"\\nTest Accuracy: \", test_accuracy)\n",
    "\n",
    "test_size = X_test.shape[0]\n",
    "test_no_correct = test_size  * test_accuracy\n",
    "\n",
    "print (\"\\nTest - No. Of Correct Predictions\", test_no_correct, \"/\", test_size)\n",
    "\n",
    "\n",
    "print(\"\\nTest Confusion Matrix:\")\n",
    "print(confusion_matrix(y_test, prediction))\n",
    "\n",
    "\n",
    "precision_test = precision_score(y_test, prediction,average='weighted') \n",
    "print(\"\\nTest Precision = %f\" % precision_test)\n",
    "\n",
    "recall_test = recall_score(y_test, prediction,average='weighted')\n",
    "print(\"Test Recall = %f\" % recall_test)\n",
    "\n",
    "\n",
    "f1_test = f1_score(y_test, prediction,average='weighted')\n",
    "print(\"Test F1 Score = %f\" % f1_test)\n",
    "\n",
    "\n",
    "print(\"\\nClassification Report:\")\n",
    "print(classification_report(y_test, prediction))"
   ]
  },
  {
   "cell_type": "markdown",
   "metadata": {},
   "source": [
    "#### No real change in F1 or even accuracy between the hyperparamter scaling. \n",
    "Default SVC \n",
    "- Gamma = \"Scale\" \n",
    "    - this is equal to 1/(number of features * X.varriance) \n",
    "- Kernal = rbf\n",
    "- C = 1.0 \n",
    "\n",
    "\n",
    "Hyperparamaters \n",
    "\n",
    "\n",
    "- Gamma = 0.4\n",
    "- Kernal = Linear\n",
    "- C = 0.4 \n"
   ]
  },
  {
   "cell_type": "code",
   "execution_count": null,
   "metadata": {},
   "outputs": [],
   "source": []
  }
 ],
 "metadata": {
  "kernelspec": {
   "display_name": "Python 3",
   "language": "python",
   "name": "python3"
  },
  "language_info": {
   "codemirror_mode": {
    "name": "ipython",
    "version": 3
   },
   "file_extension": ".py",
   "mimetype": "text/x-python",
   "name": "python",
   "nbconvert_exporter": "python",
   "pygments_lexer": "ipython3",
   "version": "3.8.8"
  }
 },
 "nbformat": 4,
 "nbformat_minor": 4
}
