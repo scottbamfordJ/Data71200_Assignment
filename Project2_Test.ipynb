{
 "cells": [
  {
   "cell_type": "markdown",
   "metadata": {},
   "source": [
    "### Import the orginal Dataset, Then re run and and scaling and splitting in order to balancec and clean data\n",
    "\n",
    "## Step 1, 2 "
   ]
  },
  {
   "cell_type": "code",
   "execution_count": 2,
   "metadata": {},
   "outputs": [],
   "source": [
    "import pandas as pd\n",
    "import numpy as np\n",
    "import time\n",
    "# Found Data Set\n",
    "# Generally This dataset is about Econmic Freedoms in the world\n",
    "df = pd.read_csv('efw_cc.csv')\n",
    "dataframe_copy = df.copy()"
   ]
  },
  {
   "cell_type": "code",
   "execution_count": 55,
   "metadata": {},
   "outputs": [],
   "source": [
    "dataframe_copy.loc[dataframe_copy['ECONOMIC FREEDOM'] > 5, 'Econ_Freedom_label'] = '1' # Economic Freedom is above 5\n",
    "dataframe_copy.loc[dataframe_copy['ECONOMIC FREEDOM'] <= 5, 'Econ_Freedom_label'] = '0'# Economic Freedom is between 0 and 5"
   ]
  },
  {
   "cell_type": "code",
   "execution_count": 56,
   "metadata": {},
   "outputs": [
    {
     "name": "stdout",
     "output_type": "stream",
     "text": [
      "\n",
      "Orginal Shape of DataFrame (3726, 36) \n",
      "Shape of dataframe after dropping values that are NA after Categorizing predictor: (3003, 37)\n"
     ]
    }
   ],
   "source": [
    "# I dropped all the rows that are NA in the Predicting categories label (Econ_Freedom_label)\n",
    "dataframe_copy2 = dataframe_copy.dropna(subset = [\"Econ_Freedom_label\"], inplace=False)\n",
    "print(\"\\nOrginal Shape of DataFrame\", df.shape, \"\\nShape of dataframe after dropping values that are NA after Categorizing predictor:\", dataframe_copy2.shape)"
   ]
  },
  {
   "cell_type": "code",
   "execution_count": 57,
   "metadata": {},
   "outputs": [],
   "source": [
    "X = dataframe_copy2.drop(['ECONOMIC FREEDOM', 'Econ_Freedom_label'], axis = 1)\n",
    "y = dataframe_copy2.Econ_Freedom_label"
   ]
  },
  {
   "cell_type": "code",
   "execution_count": 58,
   "metadata": {},
   "outputs": [
    {
     "name": "stdout",
     "output_type": "stream",
     "text": [
      "\n",
      "Train Value Spread\n",
      " 1    2144\n",
      "0     258\n",
      "Name: Econ_Freedom_label, dtype: int64 \n",
      "Test Value Spread\n",
      " 1    537\n",
      "0     64\n",
      "Name: Econ_Freedom_label, dtype: int64\n"
     ]
    }
   ],
   "source": [
    "from sklearn.model_selection import train_test_split\n",
    "X_train, X_test, y_train, y_test = train_test_split(X, y, test_size = 0.2, random_state = 42, stratify = y)\n",
    "print(\"\\nTrain Value Spread\\n\", y_train.value_counts(),\n",
    "\"\\nTest Value Spread\\n\", y_test.value_counts())"
   ]
  },
  {
   "cell_type": "code",
   "execution_count": 59,
   "metadata": {},
   "outputs": [
    {
     "data": {
      "text/plain": [
       "96      1\n",
       "588     1\n",
       "2930    1\n",
       "797     1\n",
       "836     1\n",
       "       ..\n",
       "767     1\n",
       "1384    1\n",
       "541     1\n",
       "1362    1\n",
       "54      1\n",
       "Name: Econ_Freedom_label, Length: 2402, dtype: object"
      ]
     },
     "execution_count": 59,
     "metadata": {},
     "output_type": "execute_result"
    }
   ],
   "source": [
    "y_train"
   ]
  },
  {
   "cell_type": "code",
   "execution_count": 52,
   "metadata": {
    "jupyter": {
     "source_hidden": true
    }
   },
   "outputs": [],
   "source": [
    "from sklearn.preprocessing import LabelEncoder\n",
    "type_le = LabelEncoder()\n",
    "type_labels = type_le.fit_transform(y_train)\n",
    "y_train['Labels_Enc'] = type_labels\n",
    "# type_le.classes_\n",
    "# type_labels2 = type_le.transform(Y_test)\n",
    "# y_test['Labels_Enc'] = type_labels2"
   ]
  },
  {
   "cell_type": "code",
   "execution_count": null,
   "metadata": {
    "jupyter": {
     "source_hidden": true
    }
   },
   "outputs": [],
   "source": [
    "from sklearn.preprocessing import LabelEncoder\n",
    "type_le = LabelEncoder()\n",
    "type_labels = type_le.fit_transform(y)\n",
    "y_train['Labels_Enc'] = type_labels"
   ]
  },
  {
   "cell_type": "code",
   "execution_count": 60,
   "metadata": {},
   "outputs": [],
   "source": [
    "X_train = X_train.fillna(X_train.mean())\n",
    "X_test = X_test.fillna(X_train.mean())"
   ]
  },
  {
   "cell_type": "code",
   "execution_count": 61,
   "metadata": {},
   "outputs": [],
   "source": [
    "dataframe_correlation = pd.concat([dataframe_copy['ECONOMIC FREEDOM'],X_train], axis = 1)"
   ]
  },
  {
   "cell_type": "code",
   "execution_count": 62,
   "metadata": {},
   "outputs": [],
   "source": [
    "corr_matrix = dataframe_correlation.corr()\n",
    "corr_matrix_specific = np.abs(corr_matrix['ECONOMIC FREEDOM'])\n",
    "top_correlations = corr_matrix_specific.sort_values(ascending = False)"
   ]
  },
  {
   "cell_type": "code",
   "execution_count": 63,
   "metadata": {},
   "outputs": [],
   "source": [
    "chosen_correlations = top_correlations['4_trade':'4b_regulatory_trade_barriers']"
   ]
  },
  {
   "cell_type": "code",
   "execution_count": 64,
   "metadata": {},
   "outputs": [],
   "source": [
    "correlation_index = chosen_correlations.index\n",
    "X_train_corr = X_train.loc[:,correlation_index]\n",
    "X_test_corr = X_test.loc[:,correlation_index]"
   ]
  },
  {
   "cell_type": "code",
   "execution_count": 65,
   "metadata": {},
   "outputs": [],
   "source": [
    "from sklearn.preprocessing import StandardScaler\n",
    "scaler = StandardScaler() \n",
    "scaler.fit(X_train_corr)\n",
    "X_train_scaled = pd.DataFrame(scaler.transform(X_train_corr),columns = X_train_corr.columns)  \n",
    "X_test_scaled = pd.DataFrame(scaler.transform(X_test_corr),columns = X_test_corr.columns)\n",
    "\n",
    "#print(\"\\nShape of Training set:\", X_train_scaled.shape, '\\nShape of Testing Set:', X_test_scaled.shape)"
   ]
  },
  {
   "cell_type": "code",
   "execution_count": 66,
   "metadata": {},
   "outputs": [],
   "source": [
    "X_train = X_train_scaled.copy()\n",
    "X_test = X_test_scaled.copy()"
   ]
  },
  {
   "cell_type": "markdown",
   "metadata": {},
   "source": [
    "### Step 3: \n"
   ]
  },
  {
   "cell_type": "code",
   "execution_count": 67,
   "metadata": {},
   "outputs": [
    {
     "data": {
      "image/png": "[encoded data removed]",
      "text/plain": [
       "<Figure size 360x360 with 1 Axes>"
      ]
     },
     "metadata": {},
     "output_type": "display_data"
    }
   ],
   "source": [
    "import seaborn as sns\n",
    "import matplotlib.pyplot as plt\n",
    "\n",
    "training_set = pd.concat([X_train, y_train], axis = 1)\n",
    "sns.set_theme(style=\"ticks\", color_codes=True)\n",
    "\n",
    "sns.catplot(x=\"Econ_Freedom_label\", y=\"4_trade\", data=training_set);"
   ]
  },
  {
   "cell_type": "markdown",
   "metadata": {},
   "source": [
    "#### This is clearly a categorical variable so it is either going to be I would consider this to binary, the distirbution based upon jus the training set it would appear that this is a binomial distribution just becasue of the fact that it is predicting either 0 or a 1. Later on if there were more variables to identify this would notion would change"
   ]
  },
  {
   "cell_type": "markdown",
   "metadata": {},
   "source": [
    "# Step 4: "
   ]
  },
  {
   "cell_type": "markdown",
   "metadata": {},
   "source": [
    "# KNN"
   ]
  },
  {
   "cell_type": "markdown",
   "metadata": {},
   "source": [
    "##### I ran into some errors which wouldn't let me use f1 as a scorer, becasue it wasnt able to attribute the positive label aka yes or no of the prediction, So I modiified the F1 scorer to make it so that 1 is yes and 0 is no\n",
    "###### 1 = greater than 5, 0 is less than or equal to 5. So in other words is the value above 5 Yes everythiing else no. "
   ]
  },
  {
   "cell_type": "markdown",
   "metadata": {},
   "source": [
    "#### Base"
   ]
  },
  {
   "cell_type": "code",
   "execution_count": 89,
   "metadata": {},
   "outputs": [
    {
     "name": "stdout",
     "output_type": "stream",
     "text": [
      "\n",
      "KNN Optimized\n",
      "\n",
      "\n",
      "Train Accuracy:  0.9783513738551207\n",
      "\n",
      "Test Accuracy:  0.9717138103161398\n",
      "\n",
      "Test - No. Of Correct Predictions 584.0 / 601\n",
      "\n",
      "Test Confusion Matrix:\n",
      "[[ 53  11]\n",
      " [  6 531]]\n",
      "\n",
      "Test Precision = 0.971037\n",
      "Test Recall = 0.971714\n",
      "Test F1 Score = 0.971204\n",
      "\n",
      "Classification Report:\n",
      "              precision    recall  f1-score   support\n",
      "\n",
      "           0       0.90      0.83      0.86        64\n",
      "           1       0.98      0.99      0.98       537\n",
      "\n",
      "    accuracy                           0.97       601\n",
      "   macro avg       0.94      0.91      0.92       601\n",
      "weighted avg       0.97      0.97      0.97       601\n",
      "\n"
     ]
    }
   ],
   "source": [
    "from sklearn.neighbors import KNeighborsClassifier\n",
    "from sklearn.model_selection import GridSearchCV\n",
    "from sklearn.metrics import confusion_matrix, precision_score, recall_score, f1_score, classification_report\n",
    "\n",
    "knn_base = KNeighborsClassifier()\n",
    "knn_base.fit(X_train , y_train)\n",
    "prediction = knn_base.predict(X_test)\n",
    "training_predictioin = knn_base.predict(X_train)\n",
    "\n",
    "print('\\nKNN Optimized\\n')\n",
    "training_accuracy = np.mean(training_predictioin == y_train)\n",
    "test_accuracy = np.mean(prediction == y_test)\n",
    "\n",
    "print(\"\\nTrain Accuracy: \", training_accuracy)\n",
    "print(\"\\nTest Accuracy: \", test_accuracy)\n",
    "\n",
    "test_size = X_test.shape[0]\n",
    "test_no_correct = test_size  * test_accuracy\n",
    "\n",
    "print (\"\\nTest - No. Of Correct Predictions\", test_no_correct, \"/\", test_size)\n",
    "\n",
    "\n",
    "print(\"\\nTest Confusion Matrix:\")\n",
    "print(confusion_matrix(y_test, prediction))\n",
    "\n",
    "\n",
    "precision_test = precision_score(y_test, prediction,average='weighted') \n",
    "print(\"\\nTest Precision = %f\" % precision_test)\n",
    "\n",
    "recall_test = recall_score(y_test, prediction,average='weighted')\n",
    "print(\"Test Recall = %f\" % recall_test)\n",
    "\n",
    "\n",
    "f1_test = f1_score(y_test, prediction,average='weighted')\n",
    "print(\"Test F1 Score = %f\" % f1_test)\n",
    "\n",
    "\n",
    "print(\"\\nClassification Report:\")\n",
    "print(classification_report(y_test, prediction))"
   ]
  },
  {
   "cell_type": "markdown",
   "metadata": {},
   "source": [
    "#### Hyperparamater Tuning"
   ]
  },
  {
   "cell_type": "code",
   "execution_count": 96,
   "metadata": {},
   "outputs": [],
   "source": [
    "from sklearn.model_selection import StratifiedShuffleSplit\n",
    "cv = StratifiedShuffleSplit(n_splits=5, test_size=0.2, random_state=42)"
   ]
  },
  {
   "cell_type": "code",
   "execution_count": 120,
   "metadata": {},
   "outputs": [
    {
     "name": "stdout",
     "output_type": "stream",
     "text": [
      "Fitting 5 folds for each of 240 candidates, totalling 1200 fits\n"
     ]
    },
    {
     "name": "stderr",
     "output_type": "stream",
     "text": [
      "[Parallel(n_jobs=4)]: Using backend LokyBackend with 4 concurrent workers.\n",
      "[Parallel(n_jobs=4)]: Done 128 tasks      | elapsed:    1.2s\n",
      "[Parallel(n_jobs=4)]: Done 728 tasks      | elapsed:    6.9s\n",
      "[Parallel(n_jobs=4)]: Done 1200 out of 1200 | elapsed:   11.2s finished\n"
     ]
    },
    {
     "data": {
      "text/plain": [
       "GridSearchCV(cv=5, estimator=KNeighborsClassifier(), n_jobs=4,\n",
       "             param_grid={'algorithm': ['auto', 'ball_tree', 'kd_tree', 'brute'],\n",
       "                         'metric': ['manhattan', 'minkowski', 'euclidean'],\n",
       "                         'n_neighbors': [1, 2, 3, 4, 5, 6, 7, 8, 9, 10],\n",
       "                         'weights': ['uniform', 'distance']},\n",
       "             scoring='accuracy', verbose=True)"
      ]
     },
     "execution_count": 120,
     "metadata": {},
     "output_type": "execute_result"
    }
   ],
   "source": [
    "from sklearn.metrics import f1_score\n",
    "from sklearn.metrics import make_scorer\n",
    "\n",
    "f1_scorer = make_scorer(f1_score, pos_label= '1')\n",
    "param_grid = {\n",
    "    'metric':['manhattan', 'minkowski', 'euclidean'],\n",
    "    'n_neighbors':[1,2,3,4,5,6,7,8,9,10],\n",
    "    'weights': ['uniform', 'distance'],\n",
    "    'algorithm': ['auto', 'ball_tree', 'kd_tree', 'brute'],\n",
    "    \n",
    "}\n",
    "\n",
    "knn = KNeighborsClassifier()\n",
    "grid_knn = GridSearchCV(knn, param_grid, scoring = 'accuracy', cv = 5, n_jobs = 4, verbose = True)\n",
    "grid_knn.fit(X_train, y_train)"
   ]
  },
  {
   "cell_type": "code",
   "execution_count": 121,
   "metadata": {},
   "outputs": [
    {
     "name": "stdout",
     "output_type": "stream",
     "text": [
      "Best Score (accuracy): 0.969192\n",
      "Optimal Hyperparameter Values:  {'algorithm': 'auto', 'metric': 'manhattan', 'n_neighbors': 10, 'weights': 'distance'}\n",
      "Worst Hyperparameter Valeus:  {'algorithm': 'auto', 'metric': 'minkowski', 'n_neighbors': 2, 'weights': 'uniform'}\n"
     ]
    }
   ],
   "source": [
    "knn_best_params = grid_knn.best_params_\n",
    "knn_results = pd.DataFrame(grid_knn.cv_results_)\n",
    "worst_score = knn_results.loc[np.argmax(knn_results.rank_test_score)]\n",
    "worst_score_params = worst_score.params\n",
    "print(\"Best Score (accuracy): %f\" % grid_knn.best_score_)\n",
    "print(\"Optimal Hyperparameter Values: \", knn_best_params)\n",
    "print(\"Worst Hyperparameter Valeus: \", worst_score_params)"
   ]
  },
  {
   "cell_type": "markdown",
   "metadata": {},
   "source": [
    "#### Optimized"
   ]
  },
  {
   "cell_type": "code",
   "execution_count": 122,
   "metadata": {},
   "outputs": [
    {
     "name": "stdout",
     "output_type": "stream",
     "text": [
      "\n",
      "KNN Optimized\n",
      "\n",
      "\n",
      "Train Accuracy:  1.0\n",
      "\n",
      "Test Accuracy:  0.9733777038269551\n",
      "\n",
      "Test - No. Of Correct Predictions 585.0 / 601\n",
      "\n",
      "Test Confusion Matrix:\n",
      "[[ 53  11]\n",
      " [  5 532]]\n",
      "\n",
      "Test Precision = 0.972719\n",
      "Test Recall = 0.973378\n",
      "Test F1 Score = 0.972797\n",
      "\n",
      "Classification Report:\n",
      "              precision    recall  f1-score   support\n",
      "\n",
      "           0       0.91      0.83      0.87        64\n",
      "           1       0.98      0.99      0.99       537\n",
      "\n",
      "    accuracy                           0.97       601\n",
      "   macro avg       0.95      0.91      0.93       601\n",
      "weighted avg       0.97      0.97      0.97       601\n",
      "\n"
     ]
    }
   ],
   "source": [
    "knn2 = KNeighborsClassifier(metric = 'manhattan', n_neighbors = 10, weights = 'distance')\n",
    "knn2.fit(X_train, y_train)\n",
    "prediction = knn2.predict(X_test)\n",
    "training_predictioin = knn2.predict(X_train)\n",
    "\n",
    "print('\\nKNN Optimized\\n')\n",
    "training_accuracy = np.mean(training_predictioin == y_train)\n",
    "test_accuracy = np.mean(prediction == y_test)\n",
    "\n",
    "print(\"\\nTrain Accuracy: \", training_accuracy)\n",
    "print(\"\\nTest Accuracy: \", test_accuracy)\n",
    "\n",
    "test_size = X_test.shape[0]\n",
    "test_no_correct = test_size  * test_accuracy\n",
    "\n",
    "print (\"\\nTest - No. Of Correct Predictions\", test_no_correct, \"/\", test_size)\n",
    "\n",
    "\n",
    "print(\"\\nTest Confusion Matrix:\")\n",
    "print(confusion_matrix(y_test, prediction))\n",
    "\n",
    "\n",
    "precision_test = precision_score(y_test, prediction,average='weighted') \n",
    "print(\"\\nTest Precision = %f\" % precision_test)\n",
    "\n",
    "recall_test = recall_score(y_test, prediction,average='weighted')\n",
    "print(\"Test Recall = %f\" % recall_test)\n",
    "\n",
    "\n",
    "f1_test = f1_score(y_test, prediction,average='weighted')\n",
    "print(\"Test F1 Score = %f\" % f1_test)\n",
    "\n",
    "\n",
    "print(\"\\nClassification Report:\")\n",
    "print(classification_report(y_test, prediction))"
   ]
  },
  {
   "cell_type": "markdown",
   "metadata": {},
   "source": [
    "# Logistic Regression"
   ]
  },
  {
   "cell_type": "markdown",
   "metadata": {},
   "source": [
    "#### Base"
   ]
  },
  {
   "cell_type": "code",
   "execution_count": 77,
   "metadata": {
    "collapsed": true,
    "jupyter": {
     "outputs_hidden": true,
     "source_hidden": true
    }
   },
   "outputs": [
    {
     "name": "stdout",
     "output_type": "stream",
     "text": [
      "Training R^2 set score: 0.98\n",
      "Test R^2 set score: 0.97\n",
      "\n",
      "Logistic Regression Base\n",
      "\n",
      "R squared score: 0.6502560521415269 \n",
      "Root Mean Squared Error: 0.033277870216306155 \n",
      "Mean Absolute Error 0.033277870216306155\n"
     ]
    }
   ],
   "source": [
    "from sklearn.linear_model import LogisticRegression\n",
    "from sklearn.metrics import r2_score\n",
    "from sklearn.metrics import mean_squared_error\n",
    "from sklearn.metrics import mean_absolute_error\n",
    "\n",
    "logreg_base = LogisticRegression()\n",
    "logreg_base.fit(X_train, y_train)\n",
    "prediction = logreg_base.predict(X_test)\n",
    "print(\"Training R^2 set score: {:.2f}\".format(logreg_base.score(X_train, y_train)))\n",
    "print(\"Test R^2 set score: {:.2f}\".format(logreg_base.score(X_test, y_test)))\n",
    "\n",
    "r2 = r2_score(y_test , prediction)\n",
    "RMSE = mean_squared_error(y_test, prediction)\n",
    "MAE = mean_absolute_error(y_test, prediction)\n",
    "print(\"\\nLogistic Regression Base\")\n",
    "print('\\nR squared score:', r2, '\\nRoot Mean Squared Error:', RMSE, '\\nMean Absolute Error', MAE)"
   ]
  },
  {
   "cell_type": "markdown",
   "metadata": {},
   "source": [
    "#### Hyperparamater Tuning"
   ]
  },
  {
   "cell_type": "code",
   "execution_count": 113,
   "metadata": {
    "collapsed": true,
    "jupyter": {
     "outputs_hidden": true,
     "source_hidden": true
    }
   },
   "outputs": [
    {
     "name": "stdout",
     "output_type": "stream",
     "text": [
      "Fitting 5 folds for each of 1600 candidates, totalling 8000 fits\n"
     ]
    },
    {
     "name": "stderr",
     "output_type": "stream",
     "text": [
      "[Parallel(n_jobs=4)]: Using backend LokyBackend with 4 concurrent workers.\n",
      "[Parallel(n_jobs=4)]: Done  68 tasks      | elapsed:    2.8s\n",
      "[Parallel(n_jobs=4)]: Done 2556 tasks      | elapsed:   18.9s\n",
      "[Parallel(n_jobs=4)]: Done 5140 tasks      | elapsed:   49.8s\n",
      "[Parallel(n_jobs=4)]: Done 7940 tasks      | elapsed:  1.6min\n",
      "[Parallel(n_jobs=4)]: Done 8000 out of 8000 | elapsed:  1.6min finished\n",
      "C:\\Users\\scott\\anaconda3\\lib\\site-packages\\sklearn\\linear_model\\_logistic.py:1320: UserWarning: Setting penalty='none' will ignore the C and l1_ratio parameters\n",
      "  warnings.warn(\n",
      "C:\\Users\\scott\\anaconda3\\lib\\site-packages\\sklearn\\linear_model\\_sag.py:329: ConvergenceWarning: The max_iter was reached which means the coef_ did not converge\n",
      "  warnings.warn(\"The max_iter was reached which means \"\n"
     ]
    },
    {
     "data": {
      "text/plain": [
       "GridSearchCV(cv=5, estimator=LogisticRegression(), n_jobs=4,\n",
       "             param_grid={'C': array([1.00000000e-04, 2.63665090e-04, 6.95192796e-04, 1.83298071e-03,\n",
       "       4.83293024e-03, 1.27427499e-02, 3.35981829e-02, 8.85866790e-02,\n",
       "       2.33572147e-01, 6.15848211e-01, 1.62377674e+00, 4.28133240e+00,\n",
       "       1.12883789e+01, 2.97635144e+01, 7.84759970e+01, 2.06913808e+02,\n",
       "       5.45559478e+02, 1.43844989e+03, 3.79269019e+03, 1.00000000e+04]),\n",
       "                         'max_iter': [100, 1000, 2500, 5000],\n",
       "                         'penalty': ['l1', 'l2', 'elasticnet', 'none'],\n",
       "                         'solver': ['lbfgs', 'newton-cg', 'liblinear', 'sag',\n",
       "                                    'saga']},\n",
       "             scoring='neg_root_mean_squared_error', verbose=True)"
      ]
     },
     "execution_count": 113,
     "metadata": {},
     "output_type": "execute_result"
    }
   ],
   "source": [
    "from sklearn.model_selection import GridSearchCV\n",
    "\n",
    "logreg = LogisticRegression()\n",
    "\n",
    "param_grid_log = {\n",
    "        'penalty':['l1', 'l2', 'elasticnet', 'none'],\n",
    "        'C': np.logspace(-4,4,20),\n",
    "        'solver' : ['lbfgs', 'newton-cg', 'liblinear', 'sag', 'saga'],\n",
    "        'max_iter': [100, 1000, 2500, 5000]\n",
    "    }\n",
    "\n",
    "\n",
    "\n",
    "log_grid = GridSearchCV(logreg, param_grid = param_grid_log, scoring = 'neg_root_mean_squared_error', verbose = True, cv=5, n_jobs=4)\n",
    "log_grid.fit(X_train, y_train)"
   ]
  },
  {
   "cell_type": "markdown",
   "metadata": {},
   "source": [
    "#### Printing out the Best + Worst Performing Paramaters"
   ]
  },
  {
   "cell_type": "code",
   "execution_count": 56,
   "metadata": {
    "collapsed": true,
    "jupyter": {
     "outputs_hidden": true,
     "source_hidden": true
    }
   },
   "outputs": [
    {
     "name": "stdout",
     "output_type": "stream",
     "text": [
      "Best Score (neg_root_mean_squared_error): -0.163087\n",
      "Optimal Hyperparameter Values:  {'C': 0.23357214690901212, 'max_iter': 1000, 'penalty': 'l2', 'solver': 'saga'}\n",
      "Worst Hyperparameter Valeus:  {'C': 0.0001, 'max_iter': 100, 'penalty': 'l1', 'solver': 'lbfgs'}\n"
     ]
    }
   ],
   "source": [
    "log_best_params = log_grid.best_params_\n",
    "log_results = pd.DataFrame(log_grid.cv_results_)\n",
    "worst_score = log_results.loc[np.argmax(log_results.rank_test_score)]\n",
    "worst_score_params = worst_score.params\n",
    "print(\"Best Score (neg_root_mean_squared_error): %f\" % log_grid.best_score_)\n",
    "print(\"Optimal Hyperparameter Values: \", log_best_params)\n",
    "print(\"Worst Hyperparameter Valeus: \", worst_score_params)"
   ]
  },
  {
   "cell_type": "markdown",
   "metadata": {},
   "source": [
    "#### Evaluating the hyperparamater tuning on test data"
   ]
  },
  {
   "cell_type": "code",
   "execution_count": 58,
   "metadata": {
    "collapsed": true,
    "jupyter": {
     "outputs_hidden": true,
     "source_hidden": true
    }
   },
   "outputs": [
    {
     "name": "stdout",
     "output_type": "stream",
     "text": [
      "Training R^2 set score: 0.98\n",
      "Test R^2 set score: 0.98\n",
      "\n",
      "Logistic Regression Optimized\n",
      "\n",
      "R squared score: 0.7872189768100548 \n",
      "Root Mean Squared Error: 0.019966722129783693 \n",
      "Mean Absolute Error 0.019966722129783693\n"
     ]
    }
   ],
   "source": [
    "logreg2 = LogisticRegression(C = 0.23357214690901212, max_iter = 1000, penalty = 'l2', solver = 'saga')\n",
    "logreg2.fit(X_train , y_train)\n",
    "prediction = logreg2.predict(X_test)\n",
    "print(\"Training R^2 set score: {:.2f}\".format(logreg2.score(X_train, y_train)))\n",
    "print(\"Test R^2 set score: {:.2f}\".format(logreg2.score(X_test, y_test)))\n",
    "\n",
    "r2 = r2_score(y_test , prediction)\n",
    "RMSE = mean_squared_error(y_test, prediction)\n",
    "MAE = mean_absolute_error(y_test, prediction)\n",
    "\n",
    "print(\"\\nLogistic Regression Optimized\")\n",
    "print('\\nR squared score:', r2, '\\nRoot Mean Squared Error:', RMSE, '\\nMean Absolute Error', MAE)"
   ]
  },
  {
   "cell_type": "markdown",
   "metadata": {},
   "source": [
    "# Support Vector Machines"
   ]
  },
  {
   "cell_type": "markdown",
   "metadata": {},
   "source": [
    "#### Base"
   ]
  },
  {
   "cell_type": "code",
   "execution_count": 94,
   "metadata": {
    "collapsed": true,
    "jupyter": {
     "outputs_hidden": true
    }
   },
   "outputs": [
    {
     "name": "stdout",
     "output_type": "stream",
     "text": [
      "\\SVM Base\n",
      "\n",
      "\n",
      "Train Accuracy:  0.9837635303913406\n",
      "\n",
      "Test Accuracy:  0.9633943427620633\n",
      "\n",
      "Test - No. Of Correct Predictions 579.0 / 601\n",
      "\n",
      "Test Confusion Matrix:\n",
      "[[ 51  13]\n",
      " [  9 528]]\n",
      "\n",
      "Test Precision = 0.962556\n",
      "Test Recall = 0.963394\n",
      "Test F1 Score = 0.962872\n",
      "\n",
      "Classification Report:\n",
      "              precision    recall  f1-score   support\n",
      "\n",
      "           0       0.85      0.80      0.82        64\n",
      "           1       0.98      0.98      0.98       537\n",
      "\n",
      "    accuracy                           0.96       601\n",
      "   macro avg       0.91      0.89      0.90       601\n",
      "weighted avg       0.96      0.96      0.96       601\n",
      "\n"
     ]
    }
   ],
   "source": [
    "from sklearn.svm import SVC\n",
    "from sklearn.model_selection import StratifiedShuffleSplit\n",
    "from sklearn.metrics import confusion_matrix, precision_score, recall_score, f1_score, classification_report\n",
    "import matplotlib.pyplot as plt\n",
    "\n",
    "svm_base = SVC().fit(X_train, y_train)\n",
    "\n",
    "\n",
    "prediction = svm_base.predict(X_test)\n",
    "training_predictioin = svm_base.predict(X_train)\n",
    "\n",
    "print('\\SVM Base\\n')\n",
    "training_accuracy = np.mean(training_predictioin == y_train)\n",
    "test_accuracy = np.mean(prediction == y_test)\n",
    "\n",
    "print(\"\\nTrain Accuracy: \", training_accuracy)\n",
    "print(\"\\nTest Accuracy: \", test_accuracy)\n",
    "\n",
    "test_size = X_test.shape[0]\n",
    "test_no_correct = test_size  * test_accuracy\n",
    "\n",
    "print (\"\\nTest - No. Of Correct Predictions\", test_no_correct, \"/\", test_size)\n",
    "\n",
    "\n",
    "print(\"\\nTest Confusion Matrix:\")\n",
    "print(confusion_matrix(y_test, prediction))\n",
    "\n",
    "\n",
    "precision_test = precision_score(y_test, prediction,average='weighted') \n",
    "print(\"\\nTest Precision = %f\" % precision_test)\n",
    "\n",
    "recall_test = recall_score(y_test, prediction,average='weighted')\n",
    "print(\"Test Recall = %f\" % recall_test)\n",
    "\n",
    "\n",
    "f1_test = f1_score(y_test, prediction,average='weighted')\n",
    "print(\"Test F1 Score = %f\" % f1_test)\n",
    "\n",
    "\n",
    "print(\"\\nClassification Report:\")\n",
    "print(classification_report(y_test, prediction))"
   ]
  },
  {
   "cell_type": "markdown",
   "metadata": {},
   "source": [
    "#### Hyperparamater Tuning"
   ]
  },
  {
   "cell_type": "code",
   "execution_count": 85,
   "metadata": {},
   "outputs": [],
   "source": [
    "cv = StratifiedShuffleSplit(n_splits=5, test_size=0.2, random_state=42)"
   ]
  },
  {
   "cell_type": "code",
   "execution_count": 101,
   "metadata": {
    "jupyter": {
     "source_hidden": true
    }
   },
   "outputs": [
    {
     "data": {
      "text/plain": [
       "GridSearchCV(cv=StratifiedShuffleSplit(n_splits=5, random_state=42, test_size=0.2,\n",
       "            train_size=None),\n",
       "             estimator=SVC(), n_jobs=4,\n",
       "             param_grid={'C': [0.1, 0.2, 0.3, 0.4, 0.5, 0.6, 0.7, 0.8, 0.9],\n",
       "                         'gamma': [0.5, 1, 5, 10, 50, 100, 500, 1000],\n",
       "                         'kernel': ['linear', 'poly', 'rbf', 'sigmmoid']})"
      ]
     },
     "execution_count": 101,
     "metadata": {},
     "output_type": "execute_result"
    }
   ],
   "source": [
    "param_grid = {\n",
    "    'C':[0.1,0.2,0.3,0.4,0.5,0.6,0.7,0.8,0.9],\n",
    "    'kernel':['linear', 'poly', 'rbf', 'sigmmoid'],\n",
    "    'gamma':[0.5, 1, 5, 10 ,50, 100, 500, 1000]\n",
    "}\n",
    "\n",
    "svm = SVC()\n",
    "grid_svm = GridSearchCV(svm, param_grid , scorer =f1_scorer, cv = cv, n_jobs = 4)\n",
    "grid_svm.fit(X_train, y_train)"
   ]
  },
  {
   "cell_type": "code",
   "execution_count": 102,
   "metadata": {},
   "outputs": [
    {
     "name": "stdout",
     "output_type": "stream",
     "text": [
      "Best Score (accuracy): 0.978794\n",
      "Optimal Hyperparameter Values:  {'C': 0.4, 'gamma': 0.5, 'kernel': 'linear'}\n",
      "Worst Hyperparameter Valeus:  {'C': 0.9, 'gamma': 1000, 'kernel': 'sigmmoid'}\n"
     ]
    }
   ],
   "source": [
    "svm_best_params = grid_svm.best_params_\n",
    "svm_results = pd.DataFrame(grid_svm.cv_results_)\n",
    "worst_score = svm_results.loc[np.argmax(svm_results.rank_test_score)]\n",
    "worst_score_params = worst_score.params\n",
    "print(\"Best Score (accuracy): %f\" % grid_svm.best_score_)\n",
    "print(\"Optimal Hyperparameter Values: \", svm_best_params)\n",
    "print(\"Worst Hyperparameter Valeus: \", worst_score_params)"
   ]
  },
  {
   "cell_type": "code",
   "execution_count": 95,
   "metadata": {},
   "outputs": [
    {
     "name": "stdout",
     "output_type": "stream",
     "text": [
      "\\SVM Optimized\n",
      "\n",
      "\n",
      "Train Accuracy:  0.9804329725228976\n",
      "\n",
      "Test Accuracy:  0.9633943427620633\n",
      "\n",
      "Test - No. Of Correct Predictions 579.0 / 601\n",
      "\n",
      "Test Confusion Matrix:\n",
      "[[ 52  12]\n",
      " [ 10 527]]\n",
      "\n",
      "Test Precision = 0.962932\n",
      "Test Recall = 0.963394\n",
      "Test F1 Score = 0.963138\n",
      "\n",
      "Classification Report:\n",
      "              precision    recall  f1-score   support\n",
      "\n",
      "           0       0.84      0.81      0.83        64\n",
      "           1       0.98      0.98      0.98       537\n",
      "\n",
      "    accuracy                           0.96       601\n",
      "   macro avg       0.91      0.90      0.90       601\n",
      "weighted avg       0.96      0.96      0.96       601\n",
      "\n"
     ]
    }
   ],
   "source": [
    "svm2 = SVC(C = 0.4, gamma = 0.5, kernel = 'linear')\n",
    "svm2.fit(X_train, y_train)\n",
    "prediction = svm2.predict(X_test)\n",
    "training_predictioin = svm2.predict(X_train)\n",
    "\n",
    "print('\\SVM Optimized\\n')\n",
    "training_accuracy = np.mean(training_predictioin == y_train)\n",
    "test_accuracy = np.mean(prediction == y_test)\n",
    "\n",
    "print(\"\\nTrain Accuracy: \", training_accuracy)\n",
    "print(\"\\nTest Accuracy: \", test_accuracy)\n",
    "\n",
    "test_size = X_test.shape[0]\n",
    "test_no_correct = test_size  * test_accuracy\n",
    "\n",
    "print (\"\\nTest - No. Of Correct Predictions\", test_no_correct, \"/\", test_size)\n",
    "\n",
    "\n",
    "print(\"\\nTest Confusion Matrix:\")\n",
    "print(confusion_matrix(y_test, prediction))\n",
    "\n",
    "\n",
    "precision_test = precision_score(y_test, prediction,average='weighted') \n",
    "print(\"\\nTest Precision = %f\" % precision_test)\n",
    "\n",
    "recall_test = recall_score(y_test, prediction,average='weighted')\n",
    "print(\"Test Recall = %f\" % recall_test)\n",
    "\n",
    "\n",
    "f1_test = f1_score(y_test, prediction,average='weighted')\n",
    "print(\"Test F1 Score = %f\" % f1_test)\n",
    "\n",
    "\n",
    "print(\"\\nClassification Report:\")\n",
    "print(classification_report(y_test, prediction))"
   ]
  },
  {
   "cell_type": "markdown",
   "metadata": {},
   "source": [
    "#### No real change in F1 or even accuracy between the hyperparamter scaling. \n",
    "Default SVC \n",
    "- Gamma = \"Scale\" \n",
    "    - this is equal to 1/(number of features * X.varriance) \n",
    "- Kernal = rbf\n",
    "- C = 1.0 \n",
    "\n",
    "\n",
    "Hyperparamaters \n",
    "\n",
    "\n",
    "- Gamma = 0.4\n",
    "- Kernal = Linear\n",
    "- C = 0.4 \n"
   ]
  },
  {
   "cell_type": "code",
   "execution_count": null,
   "metadata": {},
   "outputs": [],
   "source": []
  }
 ],
 "metadata": {
  "kernelspec": {
   "display_name": "Python 3",
   "language": "python",
   "name": "python3"
  },
  "language_info": {
   "codemirror_mode": {
    "name": "ipython",
    "version": 3
   },
   "file_extension": ".py",
   "mimetype": "text/x-python",
   "name": "python",
   "nbconvert_exporter": "python",
   "pygments_lexer": "ipython3",
   "version": "3.8.5"
  }
 },
 "nbformat": 4,
 "nbformat_minor": 4
}
